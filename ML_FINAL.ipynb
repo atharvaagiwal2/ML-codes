{
  "cells": [
    {
      "cell_type": "markdown",
      "source": [
        "ATHARVA AGIWAL "
      ],
      "metadata": {
        "id": "n8SWlvPauiE4"
      },
      "id": "n8SWlvPauiE4"
    },
    {
      "cell_type": "markdown",
      "source": [
        "# **MACHINE LEARNING ASSIGNMENT 1**"
      ],
      "metadata": {
        "id": "brpeO8-5u2vd"
      },
      "id": "brpeO8-5u2vd"
    },
    {
      "cell_type": "code",
      "execution_count": null,
      "metadata": {
        "scrolled": false,
        "id": "Z5OK1Xsyt5je"
      },
      "outputs": [],
      "source": [
        "import pandas as pd\n",
        "import numpy as np\n",
        "import matplotlib.pyplot as plt"
      ],
      "id": "Z5OK1Xsyt5je"
    },
    {
      "cell_type": "code",
      "source": [
        "df = pd.read_csv('ML_dataset.csv')\n",
        "display(df)"
      ],
      "metadata": {
        "id": "sIQiPPigt5jf",
        "colab": {
          "base_uri": "https://localhost:8080/",
          "height": 505
        },
        "outputId": "8c60dbb4-1e4c-4316-91b2-30b215c136cf"
      },
      "execution_count": null,
      "outputs": [
        {
          "output_type": "display_data",
          "data": {
            "text/plain": [
              "           id diagnosis  radius_mean  texture_mean  perimeter_mean  area_mean  \\\n",
              "0      842302         M        17.99         10.38          122.80     1001.0   \n",
              "1      842517         M        20.57         17.77          132.90     1326.0   \n",
              "2    84300903         M        19.69         21.25          130.00     1203.0   \n",
              "3    84348301         M        11.42         20.38           77.58      386.1   \n",
              "4    84358402         M        20.29         14.34          135.10     1297.0   \n",
              "..        ...       ...          ...           ...             ...        ...   \n",
              "564    926424         M        21.56         22.39          142.00     1479.0   \n",
              "565    926682         M        20.13         28.25          131.20     1261.0   \n",
              "566    926954         M        16.60         28.08          108.30      858.1   \n",
              "567    927241         M        20.60         29.33          140.10     1265.0   \n",
              "568     92751         B         7.76         24.54           47.92      181.0   \n",
              "\n",
              "     smoothness_mean  compactness_mean  concavity_mean  concave points_mean  \\\n",
              "0            0.11840           0.27760         0.30010              0.14710   \n",
              "1            0.08474           0.07864         0.08690              0.07017   \n",
              "2            0.10960           0.15990         0.19740              0.12790   \n",
              "3            0.14250           0.28390         0.24140              0.10520   \n",
              "4            0.10030           0.13280         0.19800              0.10430   \n",
              "..               ...               ...             ...                  ...   \n",
              "564          0.11100           0.11590         0.24390              0.13890   \n",
              "565          0.09780           0.10340         0.14400              0.09791   \n",
              "566          0.08455           0.10230         0.09251              0.05302   \n",
              "567          0.11780           0.27700         0.35140              0.15200   \n",
              "568          0.05263           0.04362         0.00000              0.00000   \n",
              "\n",
              "     ...  radius_worst  texture_worst  perimeter_worst  area_worst  \\\n",
              "0    ...        25.380          17.33           184.60      2019.0   \n",
              "1    ...        24.990          23.41           158.80      1956.0   \n",
              "2    ...        23.570          25.53           152.50      1709.0   \n",
              "3    ...        14.910          26.50            98.87       567.7   \n",
              "4    ...        22.540          16.67           152.20      1575.0   \n",
              "..   ...           ...            ...              ...         ...   \n",
              "564  ...        25.450          26.40           166.10      2027.0   \n",
              "565  ...        23.690          38.25           155.00      1731.0   \n",
              "566  ...        18.980          34.12           126.70      1124.0   \n",
              "567  ...        25.740          39.42           184.60      1821.0   \n",
              "568  ...         9.456          30.37            59.16       268.6   \n",
              "\n",
              "     smoothness_worst  compactness_worst  concavity_worst  \\\n",
              "0             0.16220            0.66560           0.7119   \n",
              "1             0.12380            0.18660           0.2416   \n",
              "2             0.14440            0.42450           0.4504   \n",
              "3             0.20980            0.86630           0.6869   \n",
              "4             0.13740            0.20500           0.4000   \n",
              "..                ...                ...              ...   \n",
              "564           0.14100            0.21130           0.4107   \n",
              "565           0.11660            0.19220           0.3215   \n",
              "566           0.11390            0.30940           0.3403   \n",
              "567           0.16500            0.86810           0.9387   \n",
              "568           0.08996            0.06444           0.0000   \n",
              "\n",
              "     concave points_worst  symmetry_worst  fractal_dimension_worst  \n",
              "0                  0.2654          0.4601                  0.11890  \n",
              "1                  0.1860          0.2750                  0.08902  \n",
              "2                  0.2430          0.3613                  0.08758  \n",
              "3                  0.2575          0.6638                  0.17300  \n",
              "4                  0.1625          0.2364                  0.07678  \n",
              "..                    ...             ...                      ...  \n",
              "564                0.2216          0.2060                  0.07115  \n",
              "565                0.1628          0.2572                  0.06637  \n",
              "566                0.1418          0.2218                  0.07820  \n",
              "567                0.2650          0.4087                  0.12400  \n",
              "568                0.0000          0.2871                  0.07039  \n",
              "\n",
              "[569 rows x 32 columns]"
            ],
            "text/html": [
              "\n",
              "  <div id=\"df-5d63d6dc-6cea-4b3f-884f-f62bc2aec91d\">\n",
              "    <div class=\"colab-df-container\">\n",
              "      <div>\n",
              "<style scoped>\n",
              "    .dataframe tbody tr th:only-of-type {\n",
              "        vertical-align: middle;\n",
              "    }\n",
              "\n",
              "    .dataframe tbody tr th {\n",
              "        vertical-align: top;\n",
              "    }\n",
              "\n",
              "    .dataframe thead th {\n",
              "        text-align: right;\n",
              "    }\n",
              "</style>\n",
              "<table border=\"1\" class=\"dataframe\">\n",
              "  <thead>\n",
              "    <tr style=\"text-align: right;\">\n",
              "      <th></th>\n",
              "      <th>id</th>\n",
              "      <th>diagnosis</th>\n",
              "      <th>radius_mean</th>\n",
              "      <th>texture_mean</th>\n",
              "      <th>perimeter_mean</th>\n",
              "      <th>area_mean</th>\n",
              "      <th>smoothness_mean</th>\n",
              "      <th>compactness_mean</th>\n",
              "      <th>concavity_mean</th>\n",
              "      <th>concave points_mean</th>\n",
              "      <th>...</th>\n",
              "      <th>radius_worst</th>\n",
              "      <th>texture_worst</th>\n",
              "      <th>perimeter_worst</th>\n",
              "      <th>area_worst</th>\n",
              "      <th>smoothness_worst</th>\n",
              "      <th>compactness_worst</th>\n",
              "      <th>concavity_worst</th>\n",
              "      <th>concave points_worst</th>\n",
              "      <th>symmetry_worst</th>\n",
              "      <th>fractal_dimension_worst</th>\n",
              "    </tr>\n",
              "  </thead>\n",
              "  <tbody>\n",
              "    <tr>\n",
              "      <th>0</th>\n",
              "      <td>842302</td>\n",
              "      <td>M</td>\n",
              "      <td>17.99</td>\n",
              "      <td>10.38</td>\n",
              "      <td>122.80</td>\n",
              "      <td>1001.0</td>\n",
              "      <td>0.11840</td>\n",
              "      <td>0.27760</td>\n",
              "      <td>0.30010</td>\n",
              "      <td>0.14710</td>\n",
              "      <td>...</td>\n",
              "      <td>25.380</td>\n",
              "      <td>17.33</td>\n",
              "      <td>184.60</td>\n",
              "      <td>2019.0</td>\n",
              "      <td>0.16220</td>\n",
              "      <td>0.66560</td>\n",
              "      <td>0.7119</td>\n",
              "      <td>0.2654</td>\n",
              "      <td>0.4601</td>\n",
              "      <td>0.11890</td>\n",
              "    </tr>\n",
              "    <tr>\n",
              "      <th>1</th>\n",
              "      <td>842517</td>\n",
              "      <td>M</td>\n",
              "      <td>20.57</td>\n",
              "      <td>17.77</td>\n",
              "      <td>132.90</td>\n",
              "      <td>1326.0</td>\n",
              "      <td>0.08474</td>\n",
              "      <td>0.07864</td>\n",
              "      <td>0.08690</td>\n",
              "      <td>0.07017</td>\n",
              "      <td>...</td>\n",
              "      <td>24.990</td>\n",
              "      <td>23.41</td>\n",
              "      <td>158.80</td>\n",
              "      <td>1956.0</td>\n",
              "      <td>0.12380</td>\n",
              "      <td>0.18660</td>\n",
              "      <td>0.2416</td>\n",
              "      <td>0.1860</td>\n",
              "      <td>0.2750</td>\n",
              "      <td>0.08902</td>\n",
              "    </tr>\n",
              "    <tr>\n",
              "      <th>2</th>\n",
              "      <td>84300903</td>\n",
              "      <td>M</td>\n",
              "      <td>19.69</td>\n",
              "      <td>21.25</td>\n",
              "      <td>130.00</td>\n",
              "      <td>1203.0</td>\n",
              "      <td>0.10960</td>\n",
              "      <td>0.15990</td>\n",
              "      <td>0.19740</td>\n",
              "      <td>0.12790</td>\n",
              "      <td>...</td>\n",
              "      <td>23.570</td>\n",
              "      <td>25.53</td>\n",
              "      <td>152.50</td>\n",
              "      <td>1709.0</td>\n",
              "      <td>0.14440</td>\n",
              "      <td>0.42450</td>\n",
              "      <td>0.4504</td>\n",
              "      <td>0.2430</td>\n",
              "      <td>0.3613</td>\n",
              "      <td>0.08758</td>\n",
              "    </tr>\n",
              "    <tr>\n",
              "      <th>3</th>\n",
              "      <td>84348301</td>\n",
              "      <td>M</td>\n",
              "      <td>11.42</td>\n",
              "      <td>20.38</td>\n",
              "      <td>77.58</td>\n",
              "      <td>386.1</td>\n",
              "      <td>0.14250</td>\n",
              "      <td>0.28390</td>\n",
              "      <td>0.24140</td>\n",
              "      <td>0.10520</td>\n",
              "      <td>...</td>\n",
              "      <td>14.910</td>\n",
              "      <td>26.50</td>\n",
              "      <td>98.87</td>\n",
              "      <td>567.7</td>\n",
              "      <td>0.20980</td>\n",
              "      <td>0.86630</td>\n",
              "      <td>0.6869</td>\n",
              "      <td>0.2575</td>\n",
              "      <td>0.6638</td>\n",
              "      <td>0.17300</td>\n",
              "    </tr>\n",
              "    <tr>\n",
              "      <th>4</th>\n",
              "      <td>84358402</td>\n",
              "      <td>M</td>\n",
              "      <td>20.29</td>\n",
              "      <td>14.34</td>\n",
              "      <td>135.10</td>\n",
              "      <td>1297.0</td>\n",
              "      <td>0.10030</td>\n",
              "      <td>0.13280</td>\n",
              "      <td>0.19800</td>\n",
              "      <td>0.10430</td>\n",
              "      <td>...</td>\n",
              "      <td>22.540</td>\n",
              "      <td>16.67</td>\n",
              "      <td>152.20</td>\n",
              "      <td>1575.0</td>\n",
              "      <td>0.13740</td>\n",
              "      <td>0.20500</td>\n",
              "      <td>0.4000</td>\n",
              "      <td>0.1625</td>\n",
              "      <td>0.2364</td>\n",
              "      <td>0.07678</td>\n",
              "    </tr>\n",
              "    <tr>\n",
              "      <th>...</th>\n",
              "      <td>...</td>\n",
              "      <td>...</td>\n",
              "      <td>...</td>\n",
              "      <td>...</td>\n",
              "      <td>...</td>\n",
              "      <td>...</td>\n",
              "      <td>...</td>\n",
              "      <td>...</td>\n",
              "      <td>...</td>\n",
              "      <td>...</td>\n",
              "      <td>...</td>\n",
              "      <td>...</td>\n",
              "      <td>...</td>\n",
              "      <td>...</td>\n",
              "      <td>...</td>\n",
              "      <td>...</td>\n",
              "      <td>...</td>\n",
              "      <td>...</td>\n",
              "      <td>...</td>\n",
              "      <td>...</td>\n",
              "      <td>...</td>\n",
              "    </tr>\n",
              "    <tr>\n",
              "      <th>564</th>\n",
              "      <td>926424</td>\n",
              "      <td>M</td>\n",
              "      <td>21.56</td>\n",
              "      <td>22.39</td>\n",
              "      <td>142.00</td>\n",
              "      <td>1479.0</td>\n",
              "      <td>0.11100</td>\n",
              "      <td>0.11590</td>\n",
              "      <td>0.24390</td>\n",
              "      <td>0.13890</td>\n",
              "      <td>...</td>\n",
              "      <td>25.450</td>\n",
              "      <td>26.40</td>\n",
              "      <td>166.10</td>\n",
              "      <td>2027.0</td>\n",
              "      <td>0.14100</td>\n",
              "      <td>0.21130</td>\n",
              "      <td>0.4107</td>\n",
              "      <td>0.2216</td>\n",
              "      <td>0.2060</td>\n",
              "      <td>0.07115</td>\n",
              "    </tr>\n",
              "    <tr>\n",
              "      <th>565</th>\n",
              "      <td>926682</td>\n",
              "      <td>M</td>\n",
              "      <td>20.13</td>\n",
              "      <td>28.25</td>\n",
              "      <td>131.20</td>\n",
              "      <td>1261.0</td>\n",
              "      <td>0.09780</td>\n",
              "      <td>0.10340</td>\n",
              "      <td>0.14400</td>\n",
              "      <td>0.09791</td>\n",
              "      <td>...</td>\n",
              "      <td>23.690</td>\n",
              "      <td>38.25</td>\n",
              "      <td>155.00</td>\n",
              "      <td>1731.0</td>\n",
              "      <td>0.11660</td>\n",
              "      <td>0.19220</td>\n",
              "      <td>0.3215</td>\n",
              "      <td>0.1628</td>\n",
              "      <td>0.2572</td>\n",
              "      <td>0.06637</td>\n",
              "    </tr>\n",
              "    <tr>\n",
              "      <th>566</th>\n",
              "      <td>926954</td>\n",
              "      <td>M</td>\n",
              "      <td>16.60</td>\n",
              "      <td>28.08</td>\n",
              "      <td>108.30</td>\n",
              "      <td>858.1</td>\n",
              "      <td>0.08455</td>\n",
              "      <td>0.10230</td>\n",
              "      <td>0.09251</td>\n",
              "      <td>0.05302</td>\n",
              "      <td>...</td>\n",
              "      <td>18.980</td>\n",
              "      <td>34.12</td>\n",
              "      <td>126.70</td>\n",
              "      <td>1124.0</td>\n",
              "      <td>0.11390</td>\n",
              "      <td>0.30940</td>\n",
              "      <td>0.3403</td>\n",
              "      <td>0.1418</td>\n",
              "      <td>0.2218</td>\n",
              "      <td>0.07820</td>\n",
              "    </tr>\n",
              "    <tr>\n",
              "      <th>567</th>\n",
              "      <td>927241</td>\n",
              "      <td>M</td>\n",
              "      <td>20.60</td>\n",
              "      <td>29.33</td>\n",
              "      <td>140.10</td>\n",
              "      <td>1265.0</td>\n",
              "      <td>0.11780</td>\n",
              "      <td>0.27700</td>\n",
              "      <td>0.35140</td>\n",
              "      <td>0.15200</td>\n",
              "      <td>...</td>\n",
              "      <td>25.740</td>\n",
              "      <td>39.42</td>\n",
              "      <td>184.60</td>\n",
              "      <td>1821.0</td>\n",
              "      <td>0.16500</td>\n",
              "      <td>0.86810</td>\n",
              "      <td>0.9387</td>\n",
              "      <td>0.2650</td>\n",
              "      <td>0.4087</td>\n",
              "      <td>0.12400</td>\n",
              "    </tr>\n",
              "    <tr>\n",
              "      <th>568</th>\n",
              "      <td>92751</td>\n",
              "      <td>B</td>\n",
              "      <td>7.76</td>\n",
              "      <td>24.54</td>\n",
              "      <td>47.92</td>\n",
              "      <td>181.0</td>\n",
              "      <td>0.05263</td>\n",
              "      <td>0.04362</td>\n",
              "      <td>0.00000</td>\n",
              "      <td>0.00000</td>\n",
              "      <td>...</td>\n",
              "      <td>9.456</td>\n",
              "      <td>30.37</td>\n",
              "      <td>59.16</td>\n",
              "      <td>268.6</td>\n",
              "      <td>0.08996</td>\n",
              "      <td>0.06444</td>\n",
              "      <td>0.0000</td>\n",
              "      <td>0.0000</td>\n",
              "      <td>0.2871</td>\n",
              "      <td>0.07039</td>\n",
              "    </tr>\n",
              "  </tbody>\n",
              "</table>\n",
              "<p>569 rows × 32 columns</p>\n",
              "</div>\n",
              "      <button class=\"colab-df-convert\" onclick=\"convertToInteractive('df-5d63d6dc-6cea-4b3f-884f-f62bc2aec91d')\"\n",
              "              title=\"Convert this dataframe to an interactive table.\"\n",
              "              style=\"display:none;\">\n",
              "        \n",
              "  <svg xmlns=\"http://www.w3.org/2000/svg\" height=\"24px\"viewBox=\"0 0 24 24\"\n",
              "       width=\"24px\">\n",
              "    <path d=\"M0 0h24v24H0V0z\" fill=\"none\"/>\n",
              "    <path d=\"M18.56 5.44l.94 2.06.94-2.06 2.06-.94-2.06-.94-.94-2.06-.94 2.06-2.06.94zm-11 1L8.5 8.5l.94-2.06 2.06-.94-2.06-.94L8.5 2.5l-.94 2.06-2.06.94zm10 10l.94 2.06.94-2.06 2.06-.94-2.06-.94-.94-2.06-.94 2.06-2.06.94z\"/><path d=\"M17.41 7.96l-1.37-1.37c-.4-.4-.92-.59-1.43-.59-.52 0-1.04.2-1.43.59L10.3 9.45l-7.72 7.72c-.78.78-.78 2.05 0 2.83L4 21.41c.39.39.9.59 1.41.59.51 0 1.02-.2 1.41-.59l7.78-7.78 2.81-2.81c.8-.78.8-2.07 0-2.86zM5.41 20L4 18.59l7.72-7.72 1.47 1.35L5.41 20z\"/>\n",
              "  </svg>\n",
              "      </button>\n",
              "      \n",
              "  <style>\n",
              "    .colab-df-container {\n",
              "      display:flex;\n",
              "      flex-wrap:wrap;\n",
              "      gap: 12px;\n",
              "    }\n",
              "\n",
              "    .colab-df-convert {\n",
              "      background-color: #E8F0FE;\n",
              "      border: none;\n",
              "      border-radius: 50%;\n",
              "      cursor: pointer;\n",
              "      display: none;\n",
              "      fill: #1967D2;\n",
              "      height: 32px;\n",
              "      padding: 0 0 0 0;\n",
              "      width: 32px;\n",
              "    }\n",
              "\n",
              "    .colab-df-convert:hover {\n",
              "      background-color: #E2EBFA;\n",
              "      box-shadow: 0px 1px 2px rgba(60, 64, 67, 0.3), 0px 1px 3px 1px rgba(60, 64, 67, 0.15);\n",
              "      fill: #174EA6;\n",
              "    }\n",
              "\n",
              "    [theme=dark] .colab-df-convert {\n",
              "      background-color: #3B4455;\n",
              "      fill: #D2E3FC;\n",
              "    }\n",
              "\n",
              "    [theme=dark] .colab-df-convert:hover {\n",
              "      background-color: #434B5C;\n",
              "      box-shadow: 0px 1px 3px 1px rgba(0, 0, 0, 0.15);\n",
              "      filter: drop-shadow(0px 1px 2px rgba(0, 0, 0, 0.3));\n",
              "      fill: #FFFFFF;\n",
              "    }\n",
              "  </style>\n",
              "\n",
              "      <script>\n",
              "        const buttonEl =\n",
              "          document.querySelector('#df-5d63d6dc-6cea-4b3f-884f-f62bc2aec91d button.colab-df-convert');\n",
              "        buttonEl.style.display =\n",
              "          google.colab.kernel.accessAllowed ? 'block' : 'none';\n",
              "\n",
              "        async function convertToInteractive(key) {\n",
              "          const element = document.querySelector('#df-5d63d6dc-6cea-4b3f-884f-f62bc2aec91d');\n",
              "          const dataTable =\n",
              "            await google.colab.kernel.invokeFunction('convertToInteractive',\n",
              "                                                     [key], {});\n",
              "          if (!dataTable) return;\n",
              "\n",
              "          const docLinkHtml = 'Like what you see? Visit the ' +\n",
              "            '<a target=\"_blank\" href=https://colab.research.google.com/notebooks/data_table.ipynb>data table notebook</a>'\n",
              "            + ' to learn more about interactive tables.';\n",
              "          element.innerHTML = '';\n",
              "          dataTable['output_type'] = 'display_data';\n",
              "          await google.colab.output.renderOutput(dataTable, element);\n",
              "          const docLink = document.createElement('div');\n",
              "          docLink.innerHTML = docLinkHtml;\n",
              "          element.appendChild(docLink);\n",
              "        }\n",
              "      </script>\n",
              "    </div>\n",
              "  </div>\n",
              "  "
            ]
          },
          "metadata": {}
        }
      ],
      "id": "sIQiPPigt5jf"
    },
    {
      "cell_type": "markdown",
      "source": [
        "## **Feature Engineering Task 1**"
      ],
      "metadata": {
        "id": "mGd2uOCVO0EG"
      },
      "id": "mGd2uOCVO0EG"
    },
    {
      "cell_type": "code",
      "execution_count": null,
      "id": "890d8578",
      "metadata": {
        "id": "890d8578",
        "colab": {
          "base_uri": "https://localhost:8080/"
        },
        "outputId": "276069a6-36f7-4d58-84c5-8cda06008435"
      },
      "outputs": [
        {
          "output_type": "execute_result",
          "data": {
            "text/plain": [
              "Index(['radius_mean', 'texture_mean', 'perimeter_mean', 'area_mean',\n",
              "       'smoothness_mean', 'compactness_mean', 'concavity_mean',\n",
              "       'concave points_mean', 'symmetry_mean', 'fractal_dimension_mean',\n",
              "       'radius_se', 'texture_se', 'perimeter_se', 'area_se', 'smoothness_se',\n",
              "       'compactness_se', 'concavity_se', 'concave points_se', 'symmetry_se',\n",
              "       'fractal_dimension_se', 'radius_worst', 'texture_worst',\n",
              "       'perimeter_worst', 'area_worst', 'smoothness_worst',\n",
              "       'compactness_worst', 'concavity_worst', 'concave points_worst',\n",
              "       'symmetry_worst', 'fractal_dimension_worst'],\n",
              "      dtype='object')"
            ]
          },
          "metadata": {},
          "execution_count": 5
        }
      ],
      "source": [
        "cols = df.columns\n",
        "num_cols = df._get_numeric_data().columns[1:]\n",
        "#identifying which column contains continuous numeric data\n",
        "num_cols"
      ]
    },
    {
      "cell_type": "code",
      "execution_count": null,
      "id": "2d31a4f6",
      "metadata": {
        "id": "2d31a4f6",
        "colab": {
          "base_uri": "https://localhost:8080/"
        },
        "outputId": "c87be69e-d725-4a8d-bcb2-094770bc900a"
      },
      "outputs": [
        {
          "output_type": "execute_result",
          "data": {
            "text/plain": [
              "['id', 'diagnosis']"
            ]
          },
          "metadata": {},
          "execution_count": 6
        }
      ],
      "source": [
        "categorical_cols = list(set(cols)-set(num_cols))\n",
        "categorical_cols\n",
        "#columns with categorical data"
      ]
    },
    {
      "cell_type": "code",
      "execution_count": null,
      "id": "352b24b0",
      "metadata": {
        "scrolled": true,
        "id": "352b24b0"
      },
      "outputs": [],
      "source": [
        "#finding missing total missing values in each column\n",
        "missing_values = sum(list(df.isna().sum()))\n",
        "#print(missing_values)\n",
        "#there were 7 missing values initially"
      ]
    },
    {
      "cell_type": "code",
      "execution_count": null,
      "id": "1ace76ce",
      "metadata": {
        "id": "1ace76ce"
      },
      "outputs": [],
      "source": [
        "for col in df:\n",
        "    if col not in ['id','diagnosis']:\n",
        "        mean_value = df[col].mean()\n",
        "        #calculating the mean value\n",
        "        df[col].fillna(value=mean_value,inplace=True)\n",
        "        #replacing empty cell with the mean value calculated as mentioned in task 1"
      ]
    },
    {
      "cell_type": "markdown",
      "source": [
        "## **Feature Engineering Task 2**"
      ],
      "metadata": {
        "id": "PkCKvyw_KkgJ"
      },
      "id": "PkCKvyw_KkgJ"
    },
    {
      "cell_type": "code",
      "execution_count": null,
      "id": "dfdb2565",
      "metadata": {
        "id": "dfdb2565",
        "colab": {
          "base_uri": "https://localhost:8080/",
          "height": 505
        },
        "outputId": "f6b9f652-0503-48b8-8bcc-175c608b9699"
      },
      "outputs": [
        {
          "output_type": "execute_result",
          "data": {
            "text/plain": [
              "           id diagnosis  radius_mean  texture_mean  perimeter_mean  area_mean  \\\n",
              "0      842302         M     1.102422     -2.071512        1.268389   0.983510   \n",
              "1      842517         M     1.836635     -0.353322        1.684639   1.907030   \n",
              "2    84300903         M     1.586206      0.455786        1.565122   1.557513   \n",
              "3    84348301         M    -0.767260      0.253509       -0.595257  -0.763792   \n",
              "4    84358402         M     1.756953     -1.150804        1.775308   1.824624   \n",
              "..        ...       ...          ...           ...             ...        ...   \n",
              "564    926424         M     2.118368      0.720838        2.059677   2.341795   \n",
              "565    926682         M     1.711420      2.083301        1.614577   1.722326   \n",
              "566    926954         M     0.706858      2.043775        0.670803   0.577445   \n",
              "567    927241         M     1.845172      2.334403        1.981372   1.733693   \n",
              "568     92751         B    -1.808817      1.220718       -1.817631  -1.346604   \n",
              "\n",
              "     smoothness_mean  compactness_mean  concavity_mean  concave points_mean  \\\n",
              "0           1.567087          3.280628        2.650837             2.530249   \n",
              "1          -0.826235         -0.486643       -0.025417             0.547662   \n",
              "2           0.941382          1.052000        1.361666             2.035440   \n",
              "3           3.280667          3.399917        1.913989             1.450431   \n",
              "4           0.280125          0.538866        1.369198             1.427237   \n",
              "..               ...               ...             ...                  ...   \n",
              "564         1.040926          0.218868        1.945370             2.318924   \n",
              "565         0.102368         -0.017817        0.691347             1.262558   \n",
              "566        -0.839745         -0.038646        0.045004             0.105684   \n",
              "567         1.524426          3.269267        3.294795             2.656528   \n",
              "568        -3.109349         -1.149741       -1.116254            -1.260710   \n",
              "\n",
              "     ...  radius_worst  texture_worst  perimeter_worst  area_worst  \\\n",
              "0    ...      1.885031      -1.358098         2.301575    1.998658   \n",
              "1    ...      1.804340      -0.368879         1.533776    1.887973   \n",
              "2    ...      1.510541      -0.023953         1.346291    1.454016   \n",
              "3    ...     -0.281217       0.133866        -0.249720   -0.551147   \n",
              "4    ...      1.297434      -1.465481         1.337363    1.218589   \n",
              "..   ...           ...            ...              ...         ...   \n",
              "564  ...      1.899514       0.117596         1.751022    2.012713   \n",
              "565  ...      1.535369       2.045599         1.420690    1.492668   \n",
              "566  ...      0.560868       1.373645         0.578492    0.426222   \n",
              "567  ...      1.959515       2.235958         2.301575    1.650790   \n",
              "568  ...     -1.409652       0.763518        -1.431475   -1.076640   \n",
              "\n",
              "     smoothness_worst  compactness_worst  concavity_worst  \\\n",
              "0            1.306537           2.614365         2.107374   \n",
              "1           -0.375282          -0.430066        -0.147968   \n",
              "2            0.526944           1.081980         0.853340   \n",
              "3            3.391291           3.889975         1.987485   \n",
              "4            0.220362          -0.313119         0.611645   \n",
              "..                ...                ...              ...   \n",
              "564          0.378033          -0.273077         0.662958   \n",
              "565         -0.690623          -0.394473         0.235195   \n",
              "566         -0.808876           0.350427         0.325352   \n",
              "567          1.429169           3.901415         3.195002   \n",
              "568         -1.857384          -1.206491        -1.306570   \n",
              "\n",
              "     concave points_worst  symmetry_worst  fractal_dimension_worst  \n",
              "0                2.294058        2.748204                 1.935312  \n",
              "1                1.086129       -0.243675                 0.280943  \n",
              "2                1.953282        1.151242                 0.201214  \n",
              "3                2.173873        6.040726                 4.930672  \n",
              "4                0.728618       -0.867590                -0.396751  \n",
              "..                    ...             ...                      ...  \n",
              "564              1.627719       -1.358963                -0.708467  \n",
              "565              0.733182       -0.531387                -0.973122  \n",
              "566              0.413705       -1.103578                -0.318129  \n",
              "567              2.287972        1.917396                 2.217684  \n",
              "568             -1.743529       -0.048096                -0.750546  \n",
              "\n",
              "[569 rows x 32 columns]"
            ],
            "text/html": [
              "\n",
              "  <div id=\"df-51cf5ee2-f188-4671-8826-b1eb4e600b8e\">\n",
              "    <div class=\"colab-df-container\">\n",
              "      <div>\n",
              "<style scoped>\n",
              "    .dataframe tbody tr th:only-of-type {\n",
              "        vertical-align: middle;\n",
              "    }\n",
              "\n",
              "    .dataframe tbody tr th {\n",
              "        vertical-align: top;\n",
              "    }\n",
              "\n",
              "    .dataframe thead th {\n",
              "        text-align: right;\n",
              "    }\n",
              "</style>\n",
              "<table border=\"1\" class=\"dataframe\">\n",
              "  <thead>\n",
              "    <tr style=\"text-align: right;\">\n",
              "      <th></th>\n",
              "      <th>id</th>\n",
              "      <th>diagnosis</th>\n",
              "      <th>radius_mean</th>\n",
              "      <th>texture_mean</th>\n",
              "      <th>perimeter_mean</th>\n",
              "      <th>area_mean</th>\n",
              "      <th>smoothness_mean</th>\n",
              "      <th>compactness_mean</th>\n",
              "      <th>concavity_mean</th>\n",
              "      <th>concave points_mean</th>\n",
              "      <th>...</th>\n",
              "      <th>radius_worst</th>\n",
              "      <th>texture_worst</th>\n",
              "      <th>perimeter_worst</th>\n",
              "      <th>area_worst</th>\n",
              "      <th>smoothness_worst</th>\n",
              "      <th>compactness_worst</th>\n",
              "      <th>concavity_worst</th>\n",
              "      <th>concave points_worst</th>\n",
              "      <th>symmetry_worst</th>\n",
              "      <th>fractal_dimension_worst</th>\n",
              "    </tr>\n",
              "  </thead>\n",
              "  <tbody>\n",
              "    <tr>\n",
              "      <th>0</th>\n",
              "      <td>842302</td>\n",
              "      <td>M</td>\n",
              "      <td>1.102422</td>\n",
              "      <td>-2.071512</td>\n",
              "      <td>1.268389</td>\n",
              "      <td>0.983510</td>\n",
              "      <td>1.567087</td>\n",
              "      <td>3.280628</td>\n",
              "      <td>2.650837</td>\n",
              "      <td>2.530249</td>\n",
              "      <td>...</td>\n",
              "      <td>1.885031</td>\n",
              "      <td>-1.358098</td>\n",
              "      <td>2.301575</td>\n",
              "      <td>1.998658</td>\n",
              "      <td>1.306537</td>\n",
              "      <td>2.614365</td>\n",
              "      <td>2.107374</td>\n",
              "      <td>2.294058</td>\n",
              "      <td>2.748204</td>\n",
              "      <td>1.935312</td>\n",
              "    </tr>\n",
              "    <tr>\n",
              "      <th>1</th>\n",
              "      <td>842517</td>\n",
              "      <td>M</td>\n",
              "      <td>1.836635</td>\n",
              "      <td>-0.353322</td>\n",
              "      <td>1.684639</td>\n",
              "      <td>1.907030</td>\n",
              "      <td>-0.826235</td>\n",
              "      <td>-0.486643</td>\n",
              "      <td>-0.025417</td>\n",
              "      <td>0.547662</td>\n",
              "      <td>...</td>\n",
              "      <td>1.804340</td>\n",
              "      <td>-0.368879</td>\n",
              "      <td>1.533776</td>\n",
              "      <td>1.887973</td>\n",
              "      <td>-0.375282</td>\n",
              "      <td>-0.430066</td>\n",
              "      <td>-0.147968</td>\n",
              "      <td>1.086129</td>\n",
              "      <td>-0.243675</td>\n",
              "      <td>0.280943</td>\n",
              "    </tr>\n",
              "    <tr>\n",
              "      <th>2</th>\n",
              "      <td>84300903</td>\n",
              "      <td>M</td>\n",
              "      <td>1.586206</td>\n",
              "      <td>0.455786</td>\n",
              "      <td>1.565122</td>\n",
              "      <td>1.557513</td>\n",
              "      <td>0.941382</td>\n",
              "      <td>1.052000</td>\n",
              "      <td>1.361666</td>\n",
              "      <td>2.035440</td>\n",
              "      <td>...</td>\n",
              "      <td>1.510541</td>\n",
              "      <td>-0.023953</td>\n",
              "      <td>1.346291</td>\n",
              "      <td>1.454016</td>\n",
              "      <td>0.526944</td>\n",
              "      <td>1.081980</td>\n",
              "      <td>0.853340</td>\n",
              "      <td>1.953282</td>\n",
              "      <td>1.151242</td>\n",
              "      <td>0.201214</td>\n",
              "    </tr>\n",
              "    <tr>\n",
              "      <th>3</th>\n",
              "      <td>84348301</td>\n",
              "      <td>M</td>\n",
              "      <td>-0.767260</td>\n",
              "      <td>0.253509</td>\n",
              "      <td>-0.595257</td>\n",
              "      <td>-0.763792</td>\n",
              "      <td>3.280667</td>\n",
              "      <td>3.399917</td>\n",
              "      <td>1.913989</td>\n",
              "      <td>1.450431</td>\n",
              "      <td>...</td>\n",
              "      <td>-0.281217</td>\n",
              "      <td>0.133866</td>\n",
              "      <td>-0.249720</td>\n",
              "      <td>-0.551147</td>\n",
              "      <td>3.391291</td>\n",
              "      <td>3.889975</td>\n",
              "      <td>1.987485</td>\n",
              "      <td>2.173873</td>\n",
              "      <td>6.040726</td>\n",
              "      <td>4.930672</td>\n",
              "    </tr>\n",
              "    <tr>\n",
              "      <th>4</th>\n",
              "      <td>84358402</td>\n",
              "      <td>M</td>\n",
              "      <td>1.756953</td>\n",
              "      <td>-1.150804</td>\n",
              "      <td>1.775308</td>\n",
              "      <td>1.824624</td>\n",
              "      <td>0.280125</td>\n",
              "      <td>0.538866</td>\n",
              "      <td>1.369198</td>\n",
              "      <td>1.427237</td>\n",
              "      <td>...</td>\n",
              "      <td>1.297434</td>\n",
              "      <td>-1.465481</td>\n",
              "      <td>1.337363</td>\n",
              "      <td>1.218589</td>\n",
              "      <td>0.220362</td>\n",
              "      <td>-0.313119</td>\n",
              "      <td>0.611645</td>\n",
              "      <td>0.728618</td>\n",
              "      <td>-0.867590</td>\n",
              "      <td>-0.396751</td>\n",
              "    </tr>\n",
              "    <tr>\n",
              "      <th>...</th>\n",
              "      <td>...</td>\n",
              "      <td>...</td>\n",
              "      <td>...</td>\n",
              "      <td>...</td>\n",
              "      <td>...</td>\n",
              "      <td>...</td>\n",
              "      <td>...</td>\n",
              "      <td>...</td>\n",
              "      <td>...</td>\n",
              "      <td>...</td>\n",
              "      <td>...</td>\n",
              "      <td>...</td>\n",
              "      <td>...</td>\n",
              "      <td>...</td>\n",
              "      <td>...</td>\n",
              "      <td>...</td>\n",
              "      <td>...</td>\n",
              "      <td>...</td>\n",
              "      <td>...</td>\n",
              "      <td>...</td>\n",
              "      <td>...</td>\n",
              "    </tr>\n",
              "    <tr>\n",
              "      <th>564</th>\n",
              "      <td>926424</td>\n",
              "      <td>M</td>\n",
              "      <td>2.118368</td>\n",
              "      <td>0.720838</td>\n",
              "      <td>2.059677</td>\n",
              "      <td>2.341795</td>\n",
              "      <td>1.040926</td>\n",
              "      <td>0.218868</td>\n",
              "      <td>1.945370</td>\n",
              "      <td>2.318924</td>\n",
              "      <td>...</td>\n",
              "      <td>1.899514</td>\n",
              "      <td>0.117596</td>\n",
              "      <td>1.751022</td>\n",
              "      <td>2.012713</td>\n",
              "      <td>0.378033</td>\n",
              "      <td>-0.273077</td>\n",
              "      <td>0.662958</td>\n",
              "      <td>1.627719</td>\n",
              "      <td>-1.358963</td>\n",
              "      <td>-0.708467</td>\n",
              "    </tr>\n",
              "    <tr>\n",
              "      <th>565</th>\n",
              "      <td>926682</td>\n",
              "      <td>M</td>\n",
              "      <td>1.711420</td>\n",
              "      <td>2.083301</td>\n",
              "      <td>1.614577</td>\n",
              "      <td>1.722326</td>\n",
              "      <td>0.102368</td>\n",
              "      <td>-0.017817</td>\n",
              "      <td>0.691347</td>\n",
              "      <td>1.262558</td>\n",
              "      <td>...</td>\n",
              "      <td>1.535369</td>\n",
              "      <td>2.045599</td>\n",
              "      <td>1.420690</td>\n",
              "      <td>1.492668</td>\n",
              "      <td>-0.690623</td>\n",
              "      <td>-0.394473</td>\n",
              "      <td>0.235195</td>\n",
              "      <td>0.733182</td>\n",
              "      <td>-0.531387</td>\n",
              "      <td>-0.973122</td>\n",
              "    </tr>\n",
              "    <tr>\n",
              "      <th>566</th>\n",
              "      <td>926954</td>\n",
              "      <td>M</td>\n",
              "      <td>0.706858</td>\n",
              "      <td>2.043775</td>\n",
              "      <td>0.670803</td>\n",
              "      <td>0.577445</td>\n",
              "      <td>-0.839745</td>\n",
              "      <td>-0.038646</td>\n",
              "      <td>0.045004</td>\n",
              "      <td>0.105684</td>\n",
              "      <td>...</td>\n",
              "      <td>0.560868</td>\n",
              "      <td>1.373645</td>\n",
              "      <td>0.578492</td>\n",
              "      <td>0.426222</td>\n",
              "      <td>-0.808876</td>\n",
              "      <td>0.350427</td>\n",
              "      <td>0.325352</td>\n",
              "      <td>0.413705</td>\n",
              "      <td>-1.103578</td>\n",
              "      <td>-0.318129</td>\n",
              "    </tr>\n",
              "    <tr>\n",
              "      <th>567</th>\n",
              "      <td>927241</td>\n",
              "      <td>M</td>\n",
              "      <td>1.845172</td>\n",
              "      <td>2.334403</td>\n",
              "      <td>1.981372</td>\n",
              "      <td>1.733693</td>\n",
              "      <td>1.524426</td>\n",
              "      <td>3.269267</td>\n",
              "      <td>3.294795</td>\n",
              "      <td>2.656528</td>\n",
              "      <td>...</td>\n",
              "      <td>1.959515</td>\n",
              "      <td>2.235958</td>\n",
              "      <td>2.301575</td>\n",
              "      <td>1.650790</td>\n",
              "      <td>1.429169</td>\n",
              "      <td>3.901415</td>\n",
              "      <td>3.195002</td>\n",
              "      <td>2.287972</td>\n",
              "      <td>1.917396</td>\n",
              "      <td>2.217684</td>\n",
              "    </tr>\n",
              "    <tr>\n",
              "      <th>568</th>\n",
              "      <td>92751</td>\n",
              "      <td>B</td>\n",
              "      <td>-1.808817</td>\n",
              "      <td>1.220718</td>\n",
              "      <td>-1.817631</td>\n",
              "      <td>-1.346604</td>\n",
              "      <td>-3.109349</td>\n",
              "      <td>-1.149741</td>\n",
              "      <td>-1.116254</td>\n",
              "      <td>-1.260710</td>\n",
              "      <td>...</td>\n",
              "      <td>-1.409652</td>\n",
              "      <td>0.763518</td>\n",
              "      <td>-1.431475</td>\n",
              "      <td>-1.076640</td>\n",
              "      <td>-1.857384</td>\n",
              "      <td>-1.206491</td>\n",
              "      <td>-1.306570</td>\n",
              "      <td>-1.743529</td>\n",
              "      <td>-0.048096</td>\n",
              "      <td>-0.750546</td>\n",
              "    </tr>\n",
              "  </tbody>\n",
              "</table>\n",
              "<p>569 rows × 32 columns</p>\n",
              "</div>\n",
              "      <button class=\"colab-df-convert\" onclick=\"convertToInteractive('df-51cf5ee2-f188-4671-8826-b1eb4e600b8e')\"\n",
              "              title=\"Convert this dataframe to an interactive table.\"\n",
              "              style=\"display:none;\">\n",
              "        \n",
              "  <svg xmlns=\"http://www.w3.org/2000/svg\" height=\"24px\"viewBox=\"0 0 24 24\"\n",
              "       width=\"24px\">\n",
              "    <path d=\"M0 0h24v24H0V0z\" fill=\"none\"/>\n",
              "    <path d=\"M18.56 5.44l.94 2.06.94-2.06 2.06-.94-2.06-.94-.94-2.06-.94 2.06-2.06.94zm-11 1L8.5 8.5l.94-2.06 2.06-.94-2.06-.94L8.5 2.5l-.94 2.06-2.06.94zm10 10l.94 2.06.94-2.06 2.06-.94-2.06-.94-.94-2.06-.94 2.06-2.06.94z\"/><path d=\"M17.41 7.96l-1.37-1.37c-.4-.4-.92-.59-1.43-.59-.52 0-1.04.2-1.43.59L10.3 9.45l-7.72 7.72c-.78.78-.78 2.05 0 2.83L4 21.41c.39.39.9.59 1.41.59.51 0 1.02-.2 1.41-.59l7.78-7.78 2.81-2.81c.8-.78.8-2.07 0-2.86zM5.41 20L4 18.59l7.72-7.72 1.47 1.35L5.41 20z\"/>\n",
              "  </svg>\n",
              "      </button>\n",
              "      \n",
              "  <style>\n",
              "    .colab-df-container {\n",
              "      display:flex;\n",
              "      flex-wrap:wrap;\n",
              "      gap: 12px;\n",
              "    }\n",
              "\n",
              "    .colab-df-convert {\n",
              "      background-color: #E8F0FE;\n",
              "      border: none;\n",
              "      border-radius: 50%;\n",
              "      cursor: pointer;\n",
              "      display: none;\n",
              "      fill: #1967D2;\n",
              "      height: 32px;\n",
              "      padding: 0 0 0 0;\n",
              "      width: 32px;\n",
              "    }\n",
              "\n",
              "    .colab-df-convert:hover {\n",
              "      background-color: #E2EBFA;\n",
              "      box-shadow: 0px 1px 2px rgba(60, 64, 67, 0.3), 0px 1px 3px 1px rgba(60, 64, 67, 0.15);\n",
              "      fill: #174EA6;\n",
              "    }\n",
              "\n",
              "    [theme=dark] .colab-df-convert {\n",
              "      background-color: #3B4455;\n",
              "      fill: #D2E3FC;\n",
              "    }\n",
              "\n",
              "    [theme=dark] .colab-df-convert:hover {\n",
              "      background-color: #434B5C;\n",
              "      box-shadow: 0px 1px 3px 1px rgba(0, 0, 0, 0.15);\n",
              "      filter: drop-shadow(0px 1px 2px rgba(0, 0, 0, 0.3));\n",
              "      fill: #FFFFFF;\n",
              "    }\n",
              "  </style>\n",
              "\n",
              "      <script>\n",
              "        const buttonEl =\n",
              "          document.querySelector('#df-51cf5ee2-f188-4671-8826-b1eb4e600b8e button.colab-df-convert');\n",
              "        buttonEl.style.display =\n",
              "          google.colab.kernel.accessAllowed ? 'block' : 'none';\n",
              "\n",
              "        async function convertToInteractive(key) {\n",
              "          const element = document.querySelector('#df-51cf5ee2-f188-4671-8826-b1eb4e600b8e');\n",
              "          const dataTable =\n",
              "            await google.colab.kernel.invokeFunction('convertToInteractive',\n",
              "                                                     [key], {});\n",
              "          if (!dataTable) return;\n",
              "\n",
              "          const docLinkHtml = 'Like what you see? Visit the ' +\n",
              "            '<a target=\"_blank\" href=https://colab.research.google.com/notebooks/data_table.ipynb>data table notebook</a>'\n",
              "            + ' to learn more about interactive tables.';\n",
              "          element.innerHTML = '';\n",
              "          dataTable['output_type'] = 'display_data';\n",
              "          await google.colab.output.renderOutput(dataTable, element);\n",
              "          const docLink = document.createElement('div');\n",
              "          docLink.innerHTML = docLinkHtml;\n",
              "          element.appendChild(docLink);\n",
              "        }\n",
              "      </script>\n",
              "    </div>\n",
              "  </div>\n",
              "  "
            ]
          },
          "metadata": {},
          "execution_count": 9
        }
      ],
      "source": [
        "df_norm = df\n",
        "#here I created a dummy dataframe and normalized it as mentioned in task 2\n",
        "for col in df_norm:\n",
        "    if col not in ['id','diagnosis']:\n",
        "        df_norm[col] = (df_norm[col] - df_norm[col].mean()) / df_norm[col].std()\n",
        "df_norm"
      ]
    },
    {
      "cell_type": "code",
      "execution_count": null,
      "id": "6989fb7a",
      "metadata": {
        "id": "6989fb7a",
        "colab": {
          "base_uri": "https://localhost:8080/"
        },
        "outputId": "910281a6-f40f-40bd-b0cd-90b37dfdf139"
      },
      "outputs": [
        {
          "output_type": "stream",
          "name": "stdout",
          "text": [
            "0 0\n"
          ]
        }
      ],
      "source": [
        "missing_value1 = df['diagnosis'].isna().sum()\n",
        "missing_value2 = df['id'].isna().sum()\n",
        "#finding missing value in our categorical data\n",
        "#here there was no missing value in both\n",
        "# print(missing_value1,missing_value2)"
      ]
    },
    {
      "cell_type": "code",
      "source": [
        "df['diagnosis'].value_counts()"
      ],
      "metadata": {
        "id": "RlYjtK_vzSFk",
        "colab": {
          "base_uri": "https://localhost:8080/"
        },
        "outputId": "6a0747b1-3a2d-497a-b561-b232fbfdcd17"
      },
      "id": "RlYjtK_vzSFk",
      "execution_count": null,
      "outputs": [
        {
          "output_type": "execute_result",
          "data": {
            "text/plain": [
              "B    357\n",
              "M    212\n",
              "Name: diagnosis, dtype: int64"
            ]
          },
          "metadata": {},
          "execution_count": 11
        }
      ]
    },
    {
      "cell_type": "markdown",
      "source": [
        "## **Perceptron Learning Algorithm**"
      ],
      "metadata": {
        "id": "cXahyuMQPZsw"
      },
      "id": "cXahyuMQPZsw"
    },
    {
      "cell_type": "code",
      "source": [
        "#task 2 was accomplished\n",
        "\n",
        "class Perceptron:\n",
        "    \n",
        "    def __init__(self, learning_rate = 0.001, epochs = 1000):\n",
        "        self.weights = None\n",
        "        self.bias = None\n",
        "        self.learning_rate = learning_rate\n",
        "        self.epochs = epochs\n",
        "\n",
        "    def activation(self, z):\n",
        "        return np.heaviside(z, 0)\n",
        "    \n",
        "#                       0   if x1 < 0\n",
        "# heaviside(x1, x2) =  x2   if x1 == 0\n",
        "# here x2 = 0\n",
        "#                       1   if x1 > 0\n",
        "\n",
        "    def fit(self, X, y):\n",
        "        columns = X.shape[1]\n",
        "        # This will give the number of columns is 2-d array \n",
        "        # Initializing weights and bias with zeros\n",
        "        self.weights = np.zeros((columns))\n",
        "        self.bias = 0\n",
        "        \n",
        "        # Iterating until the number of epochs\n",
        "        for epoch in range(self.epochs):\n",
        "            \n",
        "            # Traversing through the entire training set\n",
        "            for i in range(len(X)):\n",
        "                z = np.dot(X, self.weights) + self.bias # Finding the dot product and adding the bias\n",
        "                y_pred = self.activation(z) # Passing through an activation function\n",
        "                \n",
        "                # old_weight = self.weights \n",
        "                #Updating weights and bias\n",
        "                self.weights = self.weights + self.learning_rate * (y[i] - y_pred[i]) * X[i]\n",
        "                self.bias = self.bias + self.learning_rate * (y[i] - y_pred[i])\n",
        "                \n",
        "                # if((old_weight==self.weights).all()):\n",
        "                  # print(\"Weights are unchanged from the previous iteration\")\n",
        "                # else:\n",
        "                  # print(self.weights)\n",
        "        return self.weights, self.bias\n",
        "    \n",
        "    def predict(self, X):\n",
        "        z = np.dot(X, self.weights) + self.bias\n",
        "        return self.activation(z)"
      ],
      "metadata": {
        "id": "tPi25n07PW2Y"
      },
      "id": "tPi25n07PW2Y",
      "execution_count": null,
      "outputs": []
    },
    {
      "cell_type": "markdown",
      "source": [
        "## **PM1**"
      ],
      "metadata": {
        "id": "0nrxz7jCO-sT"
      },
      "id": "0nrxz7jCO-sT"
    },
    {
      "cell_type": "code",
      "source": [
        "\n",
        "X = df.iloc[:, 2:].values\n",
        "y = np.where(df.iloc[:, 1].values == 'M', 1, 0)\n",
        "  #create a numpy array and put value where the cancer is malignant to 1 if not then 0\n",
        "  #above function is a compact form of the below function\n",
        "\n",
        "  # li = []\n",
        "  # for i in df.iloc[:,1].values:\n",
        "  #     if i == 'M':\n",
        "  #         li.append(1)\n",
        "  #     else:\n",
        "  #         li.append(-1)\n",
        "  # y = np.array(li)\n",
        "\n",
        "  # set a random seed for reproducibility\n",
        "# np.random.seed(1)\n",
        "  # shuffle the indices of the samples\n",
        "indices = np.arange(len(X))\n",
        "  #The np.arange() function is used to create an array of indices \n",
        "      #corresponding to the number of samples in the dataset\n",
        "np.random.shuffle(indices)\n",
        "\n",
        "  # split the indices into training and testing sets as ***mentioned by Bhanu Sir***\n",
        "n_train = int(len(X) * 2/3)\n",
        "train_indices, test_indices = indices[:n_train], indices[n_train:]\n",
        "\n",
        "  # create the training and testing feature and target arrays\n",
        "X_train, y_train = X[train_indices], y[train_indices]\n",
        "X_test, y_test = X[test_indices], y[test_indices]\n",
        "\n",
        "\n",
        "\n",
        " "
      ],
      "metadata": {
        "id": "PrswV6LhGAsf"
      },
      "id": "PrswV6LhGAsf",
      "execution_count": null,
      "outputs": []
    },
    {
      "cell_type": "code",
      "execution_count": null,
      "id": "043724a4",
      "metadata": {
        "id": "043724a4",
        "colab": {
          "base_uri": "https://localhost:8080/"
        },
        "outputId": "5f7acf03-1ea4-4062-80be-a814b291f4b2"
      },
      "outputs": [
        {
          "output_type": "stream",
          "name": "stdout",
          "text": [
            "Accuracy: 96.84210526315789 %\n"
          ]
        }
      ],
      "source": [
        "perceptron = Perceptron()\n",
        "\n",
        "perceptron.fit(X_train, y_train)\n",
        "\n",
        "# Make predictions on the testing dataset\n",
        "y_pred = perceptron.predict(X_test)\n",
        "\n",
        "# Calculate the accuracy of the model on the testing dataset\n",
        "accuracy = np.sum(y_pred == y_test)/len(y_test) * 100\n",
        "print(f\"Accuracy: {accuracy} %\")"
      ]
    },
    {
      "cell_type": "markdown",
      "source": [
        "## **PM2**"
      ],
      "metadata": {
        "id": "esmjREX4Pq-o"
      },
      "id": "esmjREX4Pq-o"
    },
    {
      "cell_type": "code",
      "source": [
        "X = df.iloc[:, 2:].values\n",
        "# Get Malignant cancer datapoints and label them as 1, and begnign as 0\n",
        "y = np.where(df.iloc[:, 1].values == 'M', 1, 0)\n",
        "  #create a numpy array and put value where the cancer is malignant to 1 if not then 0\n",
        "  #above function is a compact form of the below function\n",
        "\n",
        "  # li = []\n",
        "  # for i in df.iloc[:,1].values:\n",
        "  #     if i == 'M':\n",
        "  #         li.append(1)\n",
        "  #     else:\n",
        "  #         li.append(-1)\n",
        "  # y = np.array(li)\n",
        "\n",
        "  # set a random seed for reproducibility\n",
        "np.random.seed(1)\n",
        "  # shuffle the indices of the samples\n",
        "indices = np.arange(len(X))\n",
        "  #The np.arange() function is used to create an array of indices \n",
        "      #corresponding to the number of samples in the dataset\n",
        "np.random.shuffle(indices)\n",
        "\n",
        "  # split the indices into training and testing sets as ***mentioned by Bhanu Sir***\n",
        "n_train = int(len(X) * 2/3)\n",
        "train_indices, test_indices = indices[:n_train], indices[n_train:]\n",
        "\n",
        "# Shuffle the train_indices\n",
        "np.random.shuffle(train_indices)\n",
        "X_train, y_train = X[train_indices], y[train_indices]\n",
        "\n",
        "X_test, y_test = X[test_indices], y[test_indices]\n",
        "print(X_test)"
      ],
      "metadata": {
        "id": "-rLSHvl_PyHI",
        "colab": {
          "base_uri": "https://localhost:8080/"
        },
        "outputId": "d9a61812-f471-487d-bd64-c1bb0b23161d"
      },
      "id": "-rLSHvl_PyHI",
      "execution_count": null,
      "outputs": [
        {
          "output_type": "stream",
          "name": "stdout",
          "text": [
            "[[ 1.71142018  2.08330086  1.61457747 ...  0.73318211 -0.53138705\n",
            "  -0.97312203]\n",
            " [ 1.5833598   0.55576183  1.56100073 ...  1.68705047  1.84950885\n",
            "  -0.26386948]\n",
            " [ 1.29024384 -0.39284689  1.30548091 ...  1.87417297  1.45188469\n",
            "   0.43763168]\n",
            " ...\n",
            " [ 0.87760486  1.21606789  0.91395861 ...  1.14546014  0.66633451\n",
            "   2.76581825]\n",
            " [-0.02450933  0.45578591 -0.09204765 ... -0.53210068 -1.09064705\n",
            "  -0.43052445]\n",
            " [-0.30908794 -0.20219513 -0.38795608 ... -0.98089041 -1.47695671\n",
            "  -1.23224006]]\n"
          ]
        }
      ]
    },
    {
      "cell_type": "code",
      "source": [
        "perceptron = Perceptron()\n",
        "perceptron.fit(X_train, y_train)\n",
        "y_pred = perceptron.predict(X_test)\n",
        "accuracy = np.sum(y_pred == y_test)/len(y_test) * 100\n",
        "print(f\"Accuracy: {accuracy} %\")\n",
        "\n",
        "#accuracy of PM2 matches with accuracy of PM1"
      ],
      "metadata": {
        "id": "QD3qCao1QQKK",
        "colab": {
          "base_uri": "https://localhost:8080/"
        },
        "outputId": "9e5e088e-18d8-4d11-d73d-00f9e313768e"
      },
      "id": "QD3qCao1QQKK",
      "execution_count": null,
      "outputs": [
        {
          "output_type": "stream",
          "name": "stdout",
          "text": [
            "Accuracy: 97.89473684210527 %\n"
          ]
        }
      ]
    },
    {
      "cell_type": "markdown",
      "source": [
        "## **PM3**"
      ],
      "metadata": {
        "id": "kfvo3wcfSFoC"
      },
      "id": "kfvo3wcfSFoC"
    },
    {
      "cell_type": "code",
      "source": [
        "X = df_norm.iloc[:, 2:].values\n",
        "y = np.where(df_norm.iloc[:, 1].values == 'M', 1, 0)\n",
        "\n",
        "\n",
        "# np.random.seed(1)\n",
        "indices = np.arange(len(X))\n",
        "np.random.shuffle(indices)\n",
        "n_train = int(len(X) * 2/3)\n",
        "train_indices, test_indices = indices[:n_train], indices[n_train:]\n",
        "X_train, y_train = X[train_indices], y[train_indices]\n",
        "X_test, y_test = X[test_indices], y[test_indices]\n",
        "perceptron = Perceptron()\n",
        "perceptron.fit(X_train, y_train)\n",
        "y_pred = perceptron.predict(X_test)\n",
        "accuracy = np.sum(y_pred == y_test)/len(y_test) * 100\n",
        "print(f\"Accuracy: {accuracy} %\")\n"
      ],
      "metadata": {
        "id": "yGCf5t5DSOE6",
        "colab": {
          "base_uri": "https://localhost:8080/"
        },
        "outputId": "f07fdc78-ed74-4819-ec6b-296c535229e8"
      },
      "id": "yGCf5t5DSOE6",
      "execution_count": null,
      "outputs": [
        {
          "output_type": "stream",
          "name": "stdout",
          "text": [
            "Accuracy: 94.21052631578948 %\n"
          ]
        }
      ]
    },
    {
      "cell_type": "markdown",
      "source": [
        "## **PM4**"
      ],
      "metadata": {
        "id": "ogJ7KPXq4vSW"
      },
      "id": "ogJ7KPXq4vSW"
    },
    {
      "cell_type": "code",
      "source": [
        "shuffled_cols = df.iloc[:, 2:].sample(frac=1, axis=1)\n",
        "df2 = pd.concat([df.iloc[:, :2], shuffled_cols], axis=1)\n",
        "X = df2.iloc[:, 2:].values\n",
        "y = np.where(df2.iloc[:, 1].values == 'M', 1, 0)\n",
        "# np.random.seed(1)\n",
        "indices = np.arange(len(X))\n",
        "np.random.shuffle(indices)\n",
        "n_train = int(len(X) * 2/3)\n",
        "train_indices, test_indices = indices[:n_train], indices[n_train:]\n",
        "X_train, y_train = X[train_indices], y[train_indices]\n",
        "X_test, y_test = X[test_indices], y[test_indices]"
      ],
      "metadata": {
        "id": "qsrqhKPz6Rlr"
      },
      "id": "qsrqhKPz6Rlr",
      "execution_count": null,
      "outputs": []
    },
    {
      "cell_type": "code",
      "source": [
        "perceptron = Perceptron()\n",
        "perceptron.fit(X_train, y_train)\n",
        "y_pred = perceptron.predict(X_test)\n",
        "accuracy = np.sum(y_pred == y_test)/len(y_test) * 100\n",
        "print(f\"Accuracy: {accuracy} %\")\n",
        "\n",
        "#accuracy of PM2 matches with accuracy of PM1"
      ],
      "metadata": {
        "id": "NJ04iPsxDeCB",
        "colab": {
          "base_uri": "https://localhost:8080/"
        },
        "outputId": "aa4699dc-46bb-42ca-f4ed-04ea44d75f23"
      },
      "id": "NJ04iPsxDeCB",
      "execution_count": null,
      "outputs": [
        {
          "output_type": "stream",
          "name": "stdout",
          "text": [
            "Accuracy: 97.36842105263158 %\n"
          ]
        }
      ]
    },
    {
      "cell_type": "markdown",
      "source": [
        "## **Fisher’s Linear Discriminant Analysis**\n"
      ],
      "metadata": {
        "id": "mlMeeu186TuP"
      },
      "id": "mlMeeu186TuP"
    },
    {
      "cell_type": "code",
      "source": [
        "# Imports\n",
        "import numpy as np\n",
        "import pandas as pd\n",
        "from numpy.linalg import inv as inv\n",
        "import matplotlib.pyplot as plt\n",
        "from scipy.stats import norm as norm\n"
      ],
      "metadata": {
        "id": "ntuXl2Zc6WU0"
      },
      "id": "ntuXl2Zc6WU0",
      "execution_count": null,
      "outputs": []
    },
    {
      "cell_type": "code",
      "source": [
        "def find_predictions(X_test, W, threshold):\n",
        "    \n",
        "    # Project the Test data onto W\n",
        "    proj_testdata = np.dot(W, X_test.transpose()).reshape(X_test.shape[0],1)\n",
        "    \n",
        "    # Compare with threshold\n",
        "    predictions = (proj_testdata >= threshold).astype(int).reshape(X_test.shape[0],1)\n",
        "    \n",
        "    return proj_testdata, predictions"
      ],
      "metadata": {
        "id": "z8X4kdFf60qb"
      },
      "id": "z8X4kdFf60qb",
      "execution_count": null,
      "outputs": []
    },
    {
      "cell_type": "code",
      "source": [
        "def plot_projections(projections, y_test, threshold):\n",
        "    proj_pred_data = pd.DataFrame(np.concatenate((projections, y_test.reshape(-1, 1)), axis=1))\n",
        "    \n",
        "\n",
        "    proj1_pred = proj_pred_data.loc[proj_pred_data[1] == 1][[0]]\n",
        "    proj2_pred = proj_pred_data.loc[proj_pred_data[1] == 0][[0]]    \n",
        "    plt.figure(figsize=(8, 5))\n",
        "    plt.plot(proj1_pred, np.ones(proj1_pred.shape), '.', color='b', label='Malignant (value 1)')\n",
        "    plt.plot(proj2_pred, np.ones(proj2_pred.shape), '.', color='r',label='Benign (value 0)')\n",
        "    plt.plot([threshold], [1], '.', color='g',label='Threshold')\n",
        "    plt.legend(loc = 'upper right')\n",
        "    plt.title('Projections onto W vector. Threshold = '+ str(threshold))\n",
        "    plt.show()\n"
      ],
      "metadata": {
        "id": "Jagpx-xN83p_"
      },
      "id": "Jagpx-xN83p_",
      "execution_count": null,
      "outputs": []
    },
    {
      "cell_type": "code",
      "source": [
        "def find_w_cordinates(X_train1, X_train2):\n",
        "    # X_train1 is the positive class and X_train2 is the negative class\n",
        "    \n",
        "    # 1. Find M1, M2, Cov1, Cov2\n",
        "    Mean1 = np.mean(X_train1,axis=0)\n",
        "    Mean2 = np.mean(X_train2,axis=0)\n",
        "    Mean_difference = np.subtract(Mean1,Mean2)\n",
        "\n",
        "    Cov1 = np.cov(np.transpose(X_train1))\n",
        "    Cov2 = np.cov(np.transpose(X_train2))\n",
        "\n",
        "    # 2. Within class spread Sw = Cov1 + Cov2  \n",
        "    Sw_inv = np.linalg.inv(np.add(Cov1,Cov2))\n",
        "    \n",
        "    # 3. W = (Sw_inv).(M1-M2)\n",
        "    W = np.dot(Sw_inv,Mean_difference)\n",
        "    \n",
        "    # 4. Normalise W\n",
        "    W_norm = W / np.linalg.norm(W)\n",
        "    \n",
        "    # Note:\n",
        "    # change X limits for pdf plot to -30 to 30 if W is used\n",
        "    # change X limits for pdf plot to -3 to 3 if normalised W is used\n",
        "    \n",
        "    return W_norm"
      ],
      "metadata": {
        "id": "8JBxuR8_6YFj"
      },
      "id": "8JBxuR8_6YFj",
      "execution_count": null,
      "outputs": []
    },
    {
      "cell_type": "code",
      "source": [
        "def solve_pdfs(pdf_mean_1, pdf_mean_2, pdf_std_1, pdf_std_2):\n",
        "    coeff1 = 1/(2*pdf_std_1**2) - 1/(2*pdf_std_2**2)\n",
        "    coeff2 = pdf_mean_2/(pdf_std_2**2) - pdf_mean_1/(pdf_std_1**2)\n",
        "    coeff3 = pdf_mean_1**2 /(2*pdf_std_1**2) - pdf_mean_2**2 / (2*pdf_std_2**2) - np.log(pdf_std_2/pdf_std_1)\n",
        "\n",
        "    coeffs = [coeff1, coeff2, coeff3]\n",
        "    roots_of_eq = np.roots(coeffs)\n",
        "    threshold = roots_of_eq[1]\n",
        "    #found by experimenting\n",
        "    #take[1] when using normalized value\n",
        "    #else take[0] as [1] gives negative solution or the other incorrect solution\n",
        "    return threshold"
      ],
      "metadata": {
        "id": "FD7LYrDn6w5h"
      },
      "id": "FD7LYrDn6w5h",
      "execution_count": null,
      "outputs": []
    },
    {
      "cell_type": "code",
      "source": [
        "def plot_pdfs(mean1, mean2, std1, std2, threshold):\n",
        "    # change X limits for pdf plot to -3 to 3 if normalised W is used. Otherwise set it to -30 to 30 \n",
        "    X_axis = np.linspace(-1,1,100000)\n",
        "    plt.plot(X_axis, norm.pdf(X_axis, mean1, std1),'-', color='b',label='Malignant (value 1)')    \n",
        "    plt.plot(X_axis, norm.pdf(X_axis, mean2, std2),'-', color='r',label='Benign (value 0)')\n",
        "    plt.plot([threshold], norm.pdf([threshold], mean1, std1), '*', color='g',label='Threshold')\n",
        "    plt.legend(loc = 'upper right')\n",
        "    plt.title('Normal distributions. Threshold = '+ str(threshold))\n",
        "    plt.show()\n",
        "    print('\\n')"
      ],
      "metadata": {
        "id": "9ZnBW_iW7Ses"
      },
      "id": "9ZnBW_iW7Ses",
      "execution_count": null,
      "outputs": []
    },
    {
      "cell_type": "code",
      "source": [
        "def find_threshold(X_train1, X_train2, W):\n",
        "    # Threshold = point of intersection of the (probability density functions)\n",
        "    \n",
        "    # 1. Find Projections on the line W\n",
        "    Proj1 = np.dot(W,X_train1.transpose())\n",
        "    Proj2 = np.dot(W,X_train2.transpose())\n",
        "    \n",
        "    # 2. Find Means of the projected data for positive and negative classes\n",
        "    proj_mean1 = np.mean(Proj1)\n",
        "    proj_mean2 = np.mean(Proj2)\n",
        "    print('malignant_mean',proj_mean1,' benign_mean2',proj_mean2)\n",
        "    # 3. Find Std deviations of the projected data for positive and negative classes\n",
        "    proj_std1 = np.std(Proj1)\n",
        "    proj_std2 = np.std(Proj2)\n",
        "    print('malignant_std',proj_std1,' benign_std2',proj_std2)\n",
        "    # 4. Solve the equations\n",
        "\n",
        "    threshold = solve_pdfs(proj_mean1, proj_mean2, proj_std1, proj_std2)\n",
        "    print(\"threshold\",threshold)\n",
        "    print('\\n')\n",
        "    # Plot the pdfs\n",
        "    plot_pdfs(proj_mean1, proj_mean2, proj_std1, proj_std2, threshold)\n",
        "    return threshold\n"
      ],
      "metadata": {
        "id": "nEJ0pfAh7H4P"
      },
      "id": "nEJ0pfAh7H4P",
      "execution_count": null,
      "outputs": []
    },
    {
      "cell_type": "markdown",
      "source": [
        "![image.png](data:image/png;base64,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)"
      ],
      "metadata": {
        "id": "vr4DGeMcdHzS"
      },
      "id": "vr4DGeMcdHzS"
    },
    {
      "cell_type": "markdown",
      "source": [
        "**“TP” = true positive; “FN” = false negative; “FP” = false positive; “TN” = true negative.**"
      ],
      "metadata": {
        "id": "wVzZ2XV0dopD"
      },
      "id": "wVzZ2XV0dopD"
    },
    {
      "cell_type": "code",
      "source": [
        "def matrix(y_test , y_predicted):\n",
        "  li1 = []\n",
        "  for i in y_test:\n",
        "          li1.append(i)\n",
        "  li = []\n",
        "  for i in y_predicted:\n",
        "          li.append(i[0])\n",
        "  \n",
        "  TP = 0\n",
        "  TN = 0\n",
        "  FP = 0\n",
        "  FN = 0\n",
        "  for i in range(len(li)):\n",
        "    if li[i]==li1[i]:\n",
        "      if li[i]==1:\n",
        "        TP += 1\n",
        "      else:\n",
        "        TN += 1\n",
        "    else:\n",
        "        if li[i]==1:\n",
        "          FP += 1\n",
        "        else:\n",
        "          FN += 1\n",
        "  return TP,TN,FP,FN"
      ],
      "metadata": {
        "id": "kRU3Bh4Z8Kfe"
      },
      "id": "kRU3Bh4Z8Kfe",
      "execution_count": null,
      "outputs": []
    },
    {
      "cell_type": "code",
      "source": [
        "def accuracy(y_test , y_predicted):\n",
        "    TP,TN,FP,FN = matrix(y_test , y_predicted)\n",
        "    return (TP + TN)/(TP + TN + FP + FN)\n",
        "    # Accuracy = (TP + TN)/(TP + TN + FP + FN)\n"
      ],
      "metadata": {
        "id": "8eSG0Ey77Y2k"
      },
      "id": "8eSG0Ey77Y2k",
      "execution_count": null,
      "outputs": []
    },
    {
      "cell_type": "code",
      "source": [
        "def precision(y_test , y_predicted):\n",
        "    # Precision = (TP)/(TP + FP) = True pos out of the actual results\n",
        "    TP,TN,FP,FN = matrix(y_test , y_predicted)\n",
        "    return TP/(TP + FP)"
      ],
      "metadata": {
        "id": "HFf12S6VcYaX"
      },
      "id": "HFf12S6VcYaX",
      "execution_count": null,
      "outputs": []
    },
    {
      "cell_type": "code",
      "source": [
        "def recall(y_test , y_predicted):\n",
        "    # Recall = (TP)/(TP + FN) = True pos out of the predicted results\n",
        "    TP,TN,FP,FN = matrix(y_test , y_predicted)\n",
        "    return TP/(TP + FN)"
      ],
      "metadata": {
        "id": "BLEjePH8cch9"
      },
      "id": "BLEjePH8cch9",
      "execution_count": null,
      "outputs": []
    },
    {
      "cell_type": "code",
      "source": [
        "def f_score(y_test , y_predicted):\n",
        "    # F_Score = 2PR/(P+R)\n",
        "    P = precision(y_test , y_predicted)\n",
        "    R = recall(y_test , y_predicted)\n",
        "    return 2*P*R/(P + R)"
      ],
      "metadata": {
        "id": "Oou5HKeVclMn"
      },
      "id": "Oou5HKeVclMn",
      "execution_count": null,
      "outputs": []
    },
    {
      "cell_type": "code",
      "source": [
        "def fisher(X_train1, X_train2, X_test, y_test):\n",
        "    \n",
        "    # 1. Find Projection Line\n",
        "    W = find_w_cordinates(X_train1, X_train2)\n",
        "    \n",
        "    # 2. Find Threshold\n",
        "    threshold = find_threshold(X_train1, X_train2, W)\n",
        "    \n",
        "    # 3. Find Predictions for the Test Data by Projecting onto W and comparing to the threshold\n",
        "    projections, y_predicted = find_predictions(X_test, W, threshold)\n",
        "    \n",
        "    # Plot the projections\n",
        "    plot_projections(projections, y_test, threshold)\n",
        "    print('\\n')\n",
        "    print('W:\\n',W)\n",
        "    print('\\n')\n",
        "    print('Threshold:',threshold)\n",
        "    print('accuracy:',accuracy(y_test , y_predicted))\n",
        "    \n",
        "    print(\"precision:\",precision(y_test , y_predicted))\n",
        "    print(\"recall:\",recall(y_test , y_predicted))\n",
        "    print(\"f score:\",f_score(y_test , y_predicted))"
      ],
      "metadata": {
        "id": "KHDVtT097bHH"
      },
      "id": "KHDVtT097bHH",
      "execution_count": null,
      "outputs": []
    },
    {
      "cell_type": "markdown",
      "source": [
        "## **FLDM1**"
      ],
      "metadata": {
        "id": "Jh5w1tOBt6s8"
      },
      "id": "Jh5w1tOBt6s8"
    },
    {
      "cell_type": "code",
      "source": [
        "df_norm = df\n",
        "#here I created a dummy dataframe and normalized it as mentioned in task 2\n",
        "for col in df_norm:\n",
        "    if col not in ['id','diagnosis']:\n",
        "        df_norm[col] = (df_norm[col] - df_norm[col].mean()) / df_norm[col].std()\n",
        "        \n",
        "X = df_norm.iloc[:, 2:].values\n",
        "y = np.where(df_norm.iloc[:, 1].values == 'M', 1, 0)\n",
        "\n",
        "  #create a numpy array and put value where the cancer is malignant to 1 if not then 0\n",
        "  #above function is a compact form of the below function\n",
        "\n",
        "  # li = []\n",
        "  # for i in df.iloc[:,1].values:\n",
        "  #     if i == 'M':\n",
        "  #         li.append(1)\n",
        "  #     else:\n",
        "  #         li.append(-1)\n",
        "  # y = np.array(li)\n",
        "\n",
        "  # set a random seed for reproducibility\n",
        "np.random.seed(13123)\n",
        "  # shuffle the indices of the samples\n",
        "indices = np.arange(len(X))\n",
        "  #The np.arange() function is used to create an array of indices \n",
        "      #corresponding to the number of samples in the dataset\n",
        "np.random.shuffle(indices)\n",
        "\n",
        "  # split the indices into training and testing sets as ***mentioned by Bhanu Sir***\n",
        "n_train = int(len(X) * 2/3)\n",
        "train_indices, test_indices = indices[:n_train], indices[n_train:]\n",
        "\n",
        "  # create the training and testing feature and target arrays\n",
        "X_train, y_train = X[train_indices], y[train_indices]\n",
        "X_test, y_test = X[test_indices], y[test_indices]\n",
        "\n",
        "# X_train, X_test, y_train, y_test = train_test_split(X, y, test_size=0.6)\n",
        "\n",
        "\n",
        "X_train1 = X_train[y_train == 1]\n",
        "X_train2 =  X_train[y_train == 0]"
      ],
      "metadata": {
        "id": "CDEUNIY0t42u"
      },
      "id": "CDEUNIY0t42u",
      "execution_count": null,
      "outputs": []
    },
    {
      "cell_type": "code",
      "source": [
        "fisher(X_train1, X_train2, X_test, y_test)"
      ],
      "metadata": {
        "id": "ea30qGmp-0WS",
        "colab": {
          "base_uri": "https://localhost:8080/",
          "height": 982
        },
        "outputId": "ee9fdcbb-a9a2-40d6-f7d3-018a17ddb16a"
      },
      "id": "ea30qGmp-0WS",
      "execution_count": null,
      "outputs": [
        {
          "output_type": "stream",
          "name": "stdout",
          "text": [
            "malignant_mean 0.5759037768593619  benign_mean2 -0.33495743395722954\n",
            "malignant_std 0.275229610164177  benign_std2 0.22324542339513603\n",
            "threshold 0.0870530650206827\n",
            "\n",
            "\n"
          ]
        },
        {
          "output_type": "display_data",
          "data": {
            "text/plain": [
              "<Figure size 432x288 with 1 Axes>"
            ],
            "image/png": "[encoded data removed]"
          },
          "metadata": {
            "needs_background": "light"
          }
        },
        {
          "output_type": "stream",
          "name": "stdout",
          "text": [
            "\n",
            "\n"
          ]
        },
        {
          "output_type": "display_data",
          "data": {
            "text/plain": [
              "<Figure size 576x360 with 1 Axes>"
            ],
            "image/png": "[encoded data removed]"
          },
          "metadata": {
            "needs_background": "light"
          }
        },
        {
          "output_type": "stream",
          "name": "stdout",
          "text": [
            "\n",
            "\n",
            "W:\n",
            " [-0.07020747  0.02349569  0.07979575 -0.02800129 -0.0076535  -0.20505715\n",
            "  0.08392987  0.10266201  0.01025452 -0.04157101  0.18381503 -0.00984625\n",
            " -0.03162539 -0.07722896  0.03107518  0.04152803 -0.15272481  0.10168187\n",
            "  0.00956984 -0.0291826   0.69699245  0.05711523  0.08870868 -0.56022095\n",
            "  0.06068807 -0.02479384  0.1322392   0.00177734  0.04686823  0.1137293 ]\n",
            "\n",
            "\n",
            "Threshold: 0.0870530650206827\n",
            "accuracy: 0.9789473684210527\n",
            "precision: 0.9583333333333334\n",
            "recall: 0.9583333333333334\n",
            "f score: 0.9583333333333334\n"
          ]
        }
      ]
    },
    {
      "cell_type": "markdown",
      "source": [
        "## **FLDM2**"
      ],
      "metadata": {
        "id": "VBYF7cKBAyRJ"
      },
      "id": "VBYF7cKBAyRJ"
    },
    {
      "cell_type": "code",
      "source": [
        "shuffled_cols = df.iloc[:, 2:].sample(frac=1, axis=1)\n",
        "df2 = pd.concat([df.iloc[:, :2], shuffled_cols], axis=1)\n",
        "X = df2.iloc[:, 2:].values\n",
        "y = np.where(df2.iloc[:, 1].values == 'M', 1, 0)\n",
        "np.random.seed(13123)\n",
        "indices = np.arange(len(X))\n",
        "np.random.shuffle(indices)\n",
        "n_train = int(len(X) * 2/3)\n",
        "train_indices, test_indices = indices[:n_train], indices[n_train:]\n",
        "X_train, y_train = X[train_indices], y[train_indices]\n",
        "X_test, y_test = X[test_indices], y[test_indices]\n",
        "\n",
        "X_train1 = X_train[y_train == 1]\n",
        "X_train2 =  X_train[y_train == 0]"
      ],
      "metadata": {
        "id": "dRpLYzirA2eL"
      },
      "id": "dRpLYzirA2eL",
      "execution_count": null,
      "outputs": []
    },
    {
      "cell_type": "code",
      "source": [
        "fisher(X_train1, X_train2, X_test, y_test)"
      ],
      "metadata": {
        "id": "4tjyRRvdBNcc",
        "colab": {
          "base_uri": "https://localhost:8080/",
          "height": 982
        },
        "outputId": "df61c5bb-c7cf-4b62-d0da-1e2645915cff"
      },
      "id": "4tjyRRvdBNcc",
      "execution_count": null,
      "outputs": [
        {
          "output_type": "stream",
          "name": "stdout",
          "text": [
            "malignant_mean 0.5759037768593805  benign_mean2 -0.33495743395724026\n",
            "malignant_std 0.275229610164186  benign_std2 0.223245423395143\n",
            "threshold 0.08705306502068533\n",
            "\n",
            "\n"
          ]
        },
        {
          "output_type": "display_data",
          "data": {
            "text/plain": [
              "<Figure size 432x288 with 1 Axes>"
            ],
            "image/png": "[encoded data removed]"
          },
          "metadata": {
            "needs_background": "light"
          }
        },
        {
          "output_type": "stream",
          "name": "stdout",
          "text": [
            "\n",
            "\n"
          ]
        },
        {
          "output_type": "display_data",
          "data": {
            "text/plain": [
              "<Figure size 576x360 with 1 Axes>"
            ],
            "image/png": "[encoded data removed]"
          },
          "metadata": {
            "needs_background": "light"
          }
        },
        {
          "output_type": "stream",
          "name": "stdout",
          "text": [
            "\n",
            "\n",
            "W:\n",
            " [ 0.10266201  0.04686823  0.06068807  0.1137293  -0.56022095 -0.07020747\n",
            "  0.01025452 -0.20505715 -0.0076535   0.10168187  0.03107518  0.00177734\n",
            "  0.08870868  0.69699245  0.00956984  0.1322392   0.08392987  0.02349569\n",
            "  0.05711523 -0.0291826   0.18381503  0.04152803 -0.00984625 -0.02800129\n",
            "  0.07979575 -0.15272481 -0.02479384 -0.03162539 -0.07722896 -0.04157101]\n",
            "\n",
            "\n",
            "Threshold: 0.08705306502068533\n",
            "accuracy: 0.9789473684210527\n",
            "precision: 0.9583333333333334\n",
            "recall: 0.9583333333333334\n",
            "f score: 0.9583333333333334\n"
          ]
        }
      ]
    },
    {
      "cell_type": "markdown",
      "source": [
        "## **Logistic Regression**"
      ],
      "metadata": {
        "id": "Pb4FUhwF9YnA"
      },
      "id": "Pb4FUhwF9YnA"
    },
    {
      "cell_type": "code",
      "source": [
        "#importing the required libraries\n",
        "import numpy as np\n",
        "import pandas as pd\n",
        "import matplotlib.pyplot as plt\n"
      ],
      "metadata": {
        "id": "cHiiK7g-9au9"
      },
      "id": "cHiiK7g-9au9",
      "execution_count": null,
      "outputs": []
    },
    {
      "cell_type": "markdown",
      "source": [
        "**corrected**"
      ],
      "metadata": {
        "id": "VKflAoGAwlab"
      },
      "id": "VKflAoGAwlab"
    },
    {
      "cell_type": "markdown",
      "source": [
        "![image.png](data:image/png;base64,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)"
      ],
      "metadata": {
        "id": "Qx4pUse7d6a0"
      },
      "id": "Qx4pUse7d6a0"
    },
    {
      "cell_type": "markdown",
      "source": [
        "**“TP” = true positive; “FN” = false negative; “FP” = false positive; “TN” = true negative.**"
      ],
      "metadata": {
        "id": "QIpiANE2eCF2"
      },
      "id": "QIpiANE2eCF2"
    },
    {
      "cell_type": "code",
      "source": [
        "#function to calculate sigmoid\n",
        "def sigmoid(x):\n",
        "    return 1/(1 + np.exp(-x))  #changes made -x to x\n",
        "#hypothesis for logistic regression\n",
        "def hypothesis(X,theta):\n",
        "    return sigmoid(np.dot(X, theta))\n",
        "#binary cross entropy cost function, i.e derivative which we have to minimize\n",
        "def cost(X_train,y_train,theta):\n",
        "  h = hypothesis(X_train,theta)\n",
        "  h = np.clip(h, 1e-7, 1-1e-7) #done to avoid zero in log warning as value coming close to zero\n",
        "                                  #may be interpreted as 0\n",
        "  arr = []\n",
        "  for i in range(len(h)):\n",
        "    arr.append(h[i][0])\n",
        "  h = np.array(arr)\n",
        "  return (-1/len(y_train))*(np.sum((y_train * np.log(h)) + (1-y_train)*np.log(1-h)))"
      ],
      "metadata": {
        "id": "8KQSyJY--mYj"
      },
      "id": "8KQSyJY--mYj",
      "execution_count": null,
      "outputs": []
    },
    {
      "cell_type": "code",
      "source": [
        "#function to predict the class of a test data point\n",
        "def predict(X, theta, threshold=0.5):\n",
        "    return (hypothesis(X, theta) >= threshold).astype(int)"
      ],
      "metadata": {
        "id": "NZXJjcbax1dk"
      },
      "id": "NZXJjcbax1dk",
      "execution_count": null,
      "outputs": []
    },
    {
      "cell_type": "code",
      "source": [
        "def matrix(y_test , y_predicted):\n",
        "  li1 = []\n",
        "  for i in y_test:\n",
        "          li1.append(i)\n",
        "  li = []\n",
        "  for i in y_predicted:\n",
        "          li.append(i[0])\n",
        "  TP = 0\n",
        "  TN = 0\n",
        "  FP = 0\n",
        "  FN = 0\n",
        "  for i in range(len(li)):\n",
        "    if li[i]==li1[i]:\n",
        "      if li[i]==1:\n",
        "        TP += 1\n",
        "      else:\n",
        "        TN += 1\n",
        "    else:\n",
        "        if li[i]==1:\n",
        "          FP += 1\n",
        "        else:\n",
        "          FN += 1\n",
        "  return TP,TN,FP,FN\n",
        "\n",
        "\n",
        "def accuracy(y_test , y_predicted):\n",
        "    TP,TN,FP,FN = matrix(y_test , y_predicted)\n",
        "    return (TP + TN)/(TP + TN + FP + FN)\n",
        "    # Accuracy = (TP + TN)/(TP + TN + FP + FN)\n",
        "\n",
        "def recall(y_test , y_predicted):\n",
        "    # Recall = (TP)/(TP + FN) = True pos out of the predicted results\n",
        "    TP,TN,FP,FN = matrix(y_test , y_predicted)\n",
        "    return TP/(TP + FN)\n",
        "\n",
        "#function to calculate precision of the classifier\n",
        "def precision(y_test , y_predicted):\n",
        "    # Precision = (TP)/(TP + FP) = True pos out of the actual results\n",
        "    TP,TN,FP,FN = matrix(y_test , y_predicted)\n",
        "    return TP/(TP + FP)\n",
        "\n",
        "def f_score(y_test , y_predicted):\n",
        "    # F_Score = 2PR/(P+R)\n",
        "    P = precision(y_test , y_predicted)\n",
        "    R = recall(y_test , y_predicted)\n",
        "    return 2*P*R/(P + R)"
      ],
      "metadata": {
        "id": "GHPsTUHD9hS9"
      },
      "id": "GHPsTUHD9hS9",
      "execution_count": null,
      "outputs": []
    },
    {
      "cell_type": "markdown",
      "source": [
        "# **LR1**"
      ],
      "metadata": {
        "id": "BczLL55KgSRa"
      },
      "id": "BczLL55KgSRa"
    },
    {
      "cell_type": "code",
      "source": [
        "def batch_gradient_descent(X,y,theta,learning_rate,iterations):\n",
        "    cost_history=np.zeros(iterations)\n",
        "    m=len(y)\n",
        "    for i in range(iterations):\n",
        "        li1 = []\n",
        "        for j in hypothesis(X,theta):\n",
        "          li1.append(j[0])\n",
        "          a = np.array(li1)\n",
        "        gradient = (1/m)* np.dot(X.T, (a - y).reshape(379, 1))\n",
        "        #w=w-ita*gradient\n",
        "        theta = theta - learning_rate*gradient\n",
        "        cost_history[i] = cost(X, y, theta)\n",
        "    plt.title('Learning curve (Cost Function vs Iterations), Weights = normal, LR = {} , itr = {}'.format(learning_rate, iterations))\n",
        "    plt.plot(list(range(iterations)), cost_history, '-r')\n",
        "        \n",
        "    return theta,cost_history"
      ],
      "metadata": {
        "id": "doQo0tyxyH83"
      },
      "id": "doQo0tyxyH83",
      "execution_count": null,
      "outputs": []
    },
    {
      "cell_type": "markdown",
      "source": [
        "**2/3 Training and rest 1/3 for Testing as told by sir**"
      ],
      "metadata": {
        "id": "ejyUAzLpqp-e"
      },
      "id": "ejyUAzLpqp-e"
    },
    {
      "cell_type": "code",
      "source": [
        "# Without feature engineering the result are as follows:\n",
        "cols = df.columns\n",
        "num_cols = df._get_numeric_data().columns[1:]\n",
        "categorical_cols = list(set(cols)-set(num_cols))\n",
        "\n",
        "#finding missing total missing values in each column\n",
        "missing_values = sum(list(df.isna().sum()))\n",
        "#print(missing_values)\n",
        "#there were 7 missing values initially\n",
        "\n",
        "for col in df:\n",
        "    if col not in ['id','diagnosis']:\n",
        "        mean_value = df[col].mean()\n",
        "        #calculating the mean value\n",
        "        df[col].fillna(value=mean_value,inplace=True)\n",
        "        #replacing empty cell with the mean value calculated as mentioned in task 1\n",
        "        \n",
        "X = df.iloc[:, 2:].values\n",
        "y = np.where(df.iloc[:, 1].values == 'M', 1, 0)\n",
        "\n",
        "  #concatenate a columns of ones (to accomodate the bias)\n",
        "ones=np.ones((X.shape[0],1))\n",
        "X=np.concatenate((ones,X),axis=1) \n",
        "\n",
        "  #gaussian weight initialisations can be tried:\n",
        "  #theta=np.random.randn(X.shape[1],1)\n",
        "  #1. initialise weights to zeroes\n",
        "theta1=np.zeros((X.shape[1],1))\n",
        "  #split the data into training and testing data, change the test split here\n",
        "np.random.seed(1)\n",
        "indices = np.arange(len(X))\n",
        "np.random.shuffle(indices)\n",
        "  # split the indices into training and testing sets as ***mentioned by Bhanu Sir***\n",
        "n_train = int(len(X) * 2/3)\n",
        "train_indices, test_indices = indices[:n_train], indices[n_train:]\n",
        "\n",
        "  # create the training and testing feature and target arrays\n",
        "X_train, y_train = X[train_indices], y[train_indices]\n",
        "X_test, y_test = X[test_indices], y[test_indices]"
      ],
      "metadata": {
        "id": "b7zpEPhq-bkH"
      },
      "id": "b7zpEPhq-bkH",
      "execution_count": null,
      "outputs": []
    },
    {
      "cell_type": "code",
      "source": [
        "theta = batch_gradient_descent(X_train,y_train,theta1,0.01,1000)\n",
        "y_predicted = predict(X_test,theta[0]) #we put inside it the respective threshold needed\n",
        "print(\"accuracy:\" , accuracy(y_test , y_predicted))\n",
        "print(\"precision:\",precision(y_test , y_predicted))\n",
        "print(\"recall:\",recall(y_test , y_predicted))\n",
        "print(\"f score:\",f_score(y_test , y_predicted))"
      ],
      "metadata": {
        "id": "kbUnUaROUiQZ",
        "colab": {
          "base_uri": "https://localhost:8080/",
          "height": 350
        },
        "outputId": "566a7d9c-3617-43f6-8997-e1287e5b8209"
      },
      "id": "kbUnUaROUiQZ",
      "execution_count": null,
      "outputs": [
        {
          "output_type": "stream",
          "name": "stdout",
          "text": [
            "accuracy: 0.9842105263157894\n",
            "precision: 1.0\n",
            "recall: 0.958904109589041\n",
            "f score: 0.9790209790209791\n"
          ]
        },
        {
          "output_type": "display_data",
          "data": {
            "text/plain": [
              "<Figure size 432x288 with 1 Axes>"
            ],
            "image/png": "[encoded data removed]"
          },
          "metadata": {
            "needs_background": "light"
          }
        }
      ]
    },
    {
      "cell_type": "markdown",
      "source": [
        "Q) What happens to testing accuracy when you vary the decision probability threshold from 0.5 to 0.3, 0.4, 0.6 and 0.7."
      ],
      "metadata": {
        "id": "ivFNrsO4gZ26"
      },
      "id": "ivFNrsO4gZ26"
    },
    {
      "cell_type": "markdown",
      "source": [
        "0.3"
      ],
      "metadata": {
        "id": "PHp241pzzgMI"
      },
      "id": "PHp241pzzgMI"
    },
    {
      "cell_type": "code",
      "source": [
        "y_predicted = predict(X_test,theta[0],0.3) #we put inside it the respective threshold needed\n",
        "print(\"accuracy:\" , accuracy(y_test , y_predicted))\n",
        "print(\"precision:\",precision(y_test , y_predicted))\n",
        "print(\"recall:\",recall(y_test , y_predicted))\n",
        "print(\"f score:\",f_score(y_test , y_predicted))"
      ],
      "metadata": {
        "id": "gxiIi7n1g80o",
        "colab": {
          "base_uri": "https://localhost:8080/"
        },
        "outputId": "e96277c0-ce94-4c42-c6f3-97f3d536b358"
      },
      "id": "gxiIi7n1g80o",
      "execution_count": null,
      "outputs": [
        {
          "output_type": "stream",
          "name": "stdout",
          "text": [
            "accuracy: 0.9736842105263158\n",
            "precision: 0.9594594594594594\n",
            "recall: 0.9726027397260274\n",
            "f score: 0.9659863945578231\n"
          ]
        }
      ]
    },
    {
      "cell_type": "code",
      "source": [
        "y_predicted = predict(X_test,theta[0],0.4) #we put inside it the respective threshold needed\n",
        "print(\"accuracy:\" , accuracy(y_test , y_predicted))\n",
        "print(\"precision:\",precision(y_test , y_predicted))\n",
        "print(\"recall:\",recall(y_test , y_predicted))\n",
        "print(\"f score:\",f_score(y_test , y_predicted))"
      ],
      "metadata": {
        "id": "mFSTgzLFg1lT",
        "colab": {
          "base_uri": "https://localhost:8080/"
        },
        "outputId": "00c752bb-5049-447a-d6c5-79e36eb29f1e"
      },
      "id": "mFSTgzLFg1lT",
      "execution_count": null,
      "outputs": [
        {
          "output_type": "stream",
          "name": "stdout",
          "text": [
            "accuracy: 0.9894736842105263\n",
            "precision: 1.0\n",
            "recall: 0.9726027397260274\n",
            "f score: 0.9861111111111112\n"
          ]
        }
      ]
    },
    {
      "cell_type": "code",
      "source": [
        "y_predicted = predict(X_test,theta[0],0.6) #we put inside it the respective threshold needed\n",
        "print(\"accuracy:\" , accuracy(y_test , y_predicted))\n",
        "print(\"precision:\",precision(y_test , y_predicted))\n",
        "print(\"recall:\",recall(y_test , y_predicted))\n",
        "print(\"f score:\",f_score(y_test , y_predicted))"
      ],
      "metadata": {
        "id": "8fKMKGcLmbX5",
        "colab": {
          "base_uri": "https://localhost:8080/"
        },
        "outputId": "9d063f15-b91d-48dd-a5ac-62e293bb819b"
      },
      "id": "8fKMKGcLmbX5",
      "execution_count": null,
      "outputs": [
        {
          "output_type": "stream",
          "name": "stdout",
          "text": [
            "accuracy: 0.968421052631579\n",
            "precision: 1.0\n",
            "recall: 0.9178082191780822\n",
            "f score: 0.9571428571428571\n"
          ]
        }
      ]
    },
    {
      "cell_type": "code",
      "source": [
        "y_predicted = predict(X_test,theta[0],0.7) #we put inside it the respective threshold needed\n",
        "print(\"accuracy:\" , accuracy(y_test , y_predicted))\n",
        "print(\"precision:\",precision(y_test , y_predicted))\n",
        "print(\"recall:\",recall(y_test , y_predicted))\n",
        "print(\"f score:\",f_score(y_test , y_predicted))"
      ],
      "metadata": {
        "id": "THh2NSammcvu",
        "colab": {
          "base_uri": "https://localhost:8080/"
        },
        "outputId": "eabacc76-22c7-4eee-e716-a072e43affd6"
      },
      "id": "THh2NSammcvu",
      "execution_count": null,
      "outputs": [
        {
          "output_type": "stream",
          "name": "stdout",
          "text": [
            "accuracy: 0.9473684210526315\n",
            "precision: 1.0\n",
            "recall: 0.863013698630137\n",
            "f score: 0.9264705882352942\n"
          ]
        }
      ]
    },
    {
      "cell_type": "markdown",
      "source": [
        "You must implement the above two learning tasks using Batch Gradient Descent, Mini-batch Gradient Descent and Stochastic Gradient Descent using learning rates 0.01, 0.001 and 0.0001. Plot the learning curves (Cost Function vs Iterations) for the same."
      ],
      "metadata": {
        "id": "ILOE_09T5GOy"
      },
      "id": "ILOE_09T5GOy"
    },
    {
      "cell_type": "markdown",
      "source": [
        "## **Batch Gradient Descent**"
      ],
      "metadata": {
        "id": "3K7z6YIb04o5"
      },
      "id": "3K7z6YIb04o5"
    },
    {
      "cell_type": "code",
      "source": [
        "theta = batch_gradient_descent(X_train,y_train,theta1,0.01,1000)"
      ],
      "metadata": {
        "colab": {
          "base_uri": "https://localhost:8080/",
          "height": 281
        },
        "id": "LfcC9E-Fzt_6",
        "outputId": "e4e4cf53-73de-4c44-efa9-c49175b882bd"
      },
      "id": "LfcC9E-Fzt_6",
      "execution_count": null,
      "outputs": [
        {
          "output_type": "display_data",
          "data": {
            "text/plain": [
              "<Figure size 432x288 with 1 Axes>"
            ],
            "image/png": "[encoded data removed]"
          },
          "metadata": {
            "needs_background": "light"
          }
        }
      ]
    },
    {
      "cell_type": "code",
      "source": [
        "theta = batch_gradient_descent(X_train,y_train,theta1,0.001,1000)"
      ],
      "metadata": {
        "colab": {
          "base_uri": "https://localhost:8080/",
          "height": 281
        },
        "id": "IvMx1uK9zvFE",
        "outputId": "a88e20c7-0255-4d9d-ff81-1d5c99df6354"
      },
      "id": "IvMx1uK9zvFE",
      "execution_count": null,
      "outputs": [
        {
          "output_type": "display_data",
          "data": {
            "text/plain": [
              "<Figure size 432x288 with 1 Axes>"
            ],
            "image/png": "[encoded data removed]"
          },
          "metadata": {
            "needs_background": "light"
          }
        }
      ]
    },
    {
      "cell_type": "code",
      "source": [
        "theta = batch_gradient_descent(X_train,y_train,theta1,0.0001,1000)"
      ],
      "metadata": {
        "colab": {
          "base_uri": "https://localhost:8080/",
          "height": 281
        },
        "id": "Ng6QZuYLzv6-",
        "outputId": "21aa40c7-7710-4656-e345-836b7853b90a"
      },
      "id": "Ng6QZuYLzv6-",
      "execution_count": null,
      "outputs": [
        {
          "output_type": "display_data",
          "data": {
            "text/plain": [
              "<Figure size 432x288 with 1 Axes>"
            ],
            "image/png": "[encoded data removed]"
          },
          "metadata": {
            "needs_background": "light"
          }
        }
      ]
    },
    {
      "cell_type": "markdown",
      "source": [
        "**Explaination:**"
      ],
      "metadata": {
        "id": "iDwd1s310mMS"
      },
      "id": "iDwd1s310mMS"
    },
    {
      "cell_type": "markdown",
      "source": [
        "**The learning rate α determines how rapidly we update the parameters. If the learning rate is too large, we may \"overshoot\" the optimal value. Similarly, if it is too small, we will need too many iterations to converge to the best values. That's why it is crucial to use a well-tuned learning rate.**"
      ],
      "metadata": {
        "id": "mPjKhkuT0kjP"
      },
      "id": "mPjKhkuT0kjP"
    },
    {
      "cell_type": "markdown",
      "source": [
        "![image.png](data:image/png;base64,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)"
      ],
      "metadata": {
        "id": "pj0cZPRV0Wa4"
      },
      "id": "pj0cZPRV0Wa4"
    },
    {
      "cell_type": "markdown",
      "source": [
        "**If you have low learning rate means your cost function will decrease slowly but in case of large learning rate cost function will decrease very fast.**"
      ],
      "metadata": {
        "id": "wGkWnfIXUR0c"
      },
      "id": "wGkWnfIXUR0c"
    },
    {
      "cell_type": "markdown",
      "source": [
        "***Graph of Batch, Stochastic, Mini-Batch***"
      ],
      "metadata": {
        "id": "uHkEErQ-J1Yg"
      },
      "id": "uHkEErQ-J1Yg"
    },
    {
      "cell_type": "markdown",
      "source": [
        "![image.png](data:image/png;base64,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)"
      ],
      "metadata": {
        "id": "x0HXuzD2Jw_I"
      },
      "id": "x0HXuzD2Jw_I"
    },
    {
      "cell_type": "markdown",
      "source": [
        "# **LR2**"
      ],
      "metadata": {
        "id": "VLB7ARFgKNQR"
      },
      "id": "VLB7ARFgKNQR"
    },
    {
      "cell_type": "markdown",
      "source": [
        "##**Applying Feature Engineering 1 to the dataset**\n",
        "\n"
      ],
      "metadata": {
        "id": "9QyVi57AovE2"
      },
      "id": "9QyVi57AovE2"
    },
    {
      "cell_type": "code",
      "source": [
        "cols = df.columns\n",
        "num_cols = df._get_numeric_data().columns[1:]\n",
        "categorical_cols = list(set(cols)-set(num_cols))\n",
        "categorical_cols\n",
        "#columns with categorical data\n",
        "print(\"The cols that contain categorical data are {}\".format(categorical_cols))\n",
        "\n",
        "#finding missing total missing values in each column\n",
        "missing_values = sum(list(df.isna().sum()))\n",
        "#print(missing_values)\n",
        "#there were 7 missing values initially\n",
        "\n",
        "for col in df:\n",
        "    if col not in ['id','diagnosis']:\n",
        "        mean_value = df[col].mean()\n",
        "        #calculating the mean value\n",
        "        df[col].fillna(value=mean_value,inplace=True)\n",
        "        #replacing empty cell with the mean value calculated as mentioned in task 1\n",
        "df_norm = df\n",
        "#here I created a dummy dataframe and normalized it as mentioned in task 2\n",
        "for col in df_norm:\n",
        "    if col not in ['id','diagnosis']:\n",
        "        df_norm[col] = (df_norm[col] - df_norm[col].mean()) / df_norm[col].std()"
      ],
      "metadata": {
        "id": "UBW6prP6pkUV",
        "colab": {
          "base_uri": "https://localhost:8080/"
        },
        "outputId": "01b32b85-89e7-4160-e33a-f062370e963f"
      },
      "id": "UBW6prP6pkUV",
      "execution_count": null,
      "outputs": [
        {
          "output_type": "stream",
          "name": "stdout",
          "text": [
            "The cols that contain categorical data are ['id', 'diagnosis']\n"
          ]
        }
      ]
    },
    {
      "cell_type": "code",
      "source": [
        "# Creating train and test splits\n",
        "X = df_norm.iloc[:, 2:].values\n",
        "y = np.where(df_norm.iloc[:, 1].values == 'M', 1, 0)\n",
        "\n",
        "#concatenate a columns of ones (to accomodate the bias)\n",
        "ones=np.ones((X.shape[0],1))\n",
        "X=np.concatenate((ones,X),axis=1) \n",
        "\n",
        "  #gaussian weight initialisations can be tried:\n",
        "  #theta=np.random.randn(X.shape[1],1)\n",
        "  #1. initialise weights to zeroes\n",
        "theta1=np.zeros((X.shape[1],1))\n",
        "  #split the data into training and testing data, change the test split here\n",
        "np.random.seed(1)\n",
        "indices = np.arange(len(X))\n",
        "np.random.shuffle(indices)\n",
        "  # split the indices into training and testing sets as ***mentioned by Bhanu Sir***\n",
        "n_train = int(len(X) * 2/3)\n",
        "train_indices, test_indices = indices[:n_train], indices[n_train:]\n",
        "\n",
        "  # create the training and testing feature and target arrays\n",
        "X_train, y_train = X[train_indices], y[train_indices]\n",
        "X_test, y_test = X[test_indices], y[test_indices]"
      ],
      "metadata": {
        "id": "KsV7ytNghXpx"
      },
      "id": "KsV7ytNghXpx",
      "execution_count": null,
      "outputs": []
    },
    {
      "cell_type": "markdown",
      "source": [
        "## **Batch Gradient Descent**"
      ],
      "metadata": {
        "id": "tI_0PKarr4pQ"
      },
      "id": "tI_0PKarr4pQ"
    },
    {
      "cell_type": "code",
      "source": [
        "#function to predict the class of a test data point\n",
        "def predict(X, theta, threshold=0.5):\n",
        "    return (hypothesis(X, theta) >= threshold).astype(int)"
      ],
      "metadata": {
        "id": "Rpfi-c8SS-Aa"
      },
      "id": "Rpfi-c8SS-Aa",
      "execution_count": null,
      "outputs": []
    },
    {
      "cell_type": "code",
      "source": [
        "theta = batch_gradient_descent(X_train,y_train,theta1,0.01,1000)\n",
        "y_predicted = predict(X_test,theta[0]) #we put inside it the respective threshold needed\n",
        "print(\"accuracy:\" , accuracy(y_test , y_predicted))\n",
        "print(\"precision:\",precision(y_test , y_predicted))\n",
        "print(\"recall:\",recall(y_test , y_predicted))\n",
        "print(\"f score:\",f_score(y_test , y_predicted))"
      ],
      "metadata": {
        "id": "MzFqJuNvr4pQ",
        "colab": {
          "base_uri": "https://localhost:8080/",
          "height": 350
        },
        "outputId": "488c6dad-43c4-47aa-ddcf-d163db7a2732"
      },
      "execution_count": null,
      "outputs": [
        {
          "output_type": "stream",
          "name": "stdout",
          "text": [
            "accuracy: 0.9842105263157894\n",
            "precision: 1.0\n",
            "recall: 0.958904109589041\n",
            "f score: 0.9790209790209791\n"
          ]
        },
        {
          "output_type": "display_data",
          "data": {
            "text/plain": [
              "<Figure size 432x288 with 1 Axes>"
            ],
            "image/png": "[encoded data removed]"
          },
          "metadata": {
            "needs_background": "light"
          }
        }
      ],
      "id": "MzFqJuNvr4pQ"
    },
    {
      "cell_type": "markdown",
      "source": [
        "0.3"
      ],
      "metadata": {
        "id": "kC426tv7DMBI"
      },
      "id": "kC426tv7DMBI"
    },
    {
      "cell_type": "code",
      "source": [
        "y_predicted = predict(X_test,theta[0],0.3) #we put inside it the respective threshold needed\n",
        "print(\"accuracy:\" , accuracy(y_test , y_predicted))\n",
        "print(\"precision:\",precision(y_test , y_predicted))\n",
        "print(\"recall:\",recall(y_test , y_predicted))\n",
        "print(\"f score:\",f_score(y_test , y_predicted))"
      ],
      "metadata": {
        "colab": {
          "base_uri": "https://localhost:8080/"
        },
        "id": "Qp_ib7RaC0XT",
        "outputId": "1672c8d0-d7fe-46ac-f7ee-f5b48575faa3"
      },
      "id": "Qp_ib7RaC0XT",
      "execution_count": null,
      "outputs": [
        {
          "output_type": "stream",
          "name": "stdout",
          "text": [
            "accuracy: 0.9736842105263158\n",
            "precision: 0.9594594594594594\n",
            "recall: 0.9726027397260274\n",
            "f score: 0.9659863945578231\n"
          ]
        }
      ]
    },
    {
      "cell_type": "markdown",
      "source": [
        "0.4"
      ],
      "metadata": {
        "id": "PS9e6SgyDOIw"
      },
      "id": "PS9e6SgyDOIw"
    },
    {
      "cell_type": "code",
      "source": [
        "y_predicted = predict(X_test,theta[0],0.4) #we put inside it the respective threshold needed\n",
        "print(\"accuracy:\" , accuracy(y_test , y_predicted))\n",
        "print(\"precision:\",precision(y_test , y_predicted))\n",
        "print(\"recall:\",recall(y_test , y_predicted))\n",
        "print(\"f score:\",f_score(y_test , y_predicted))"
      ],
      "metadata": {
        "id": "c0DiJzddr4pR",
        "colab": {
          "base_uri": "https://localhost:8080/"
        },
        "outputId": "cee14228-85bf-4bf5-a2d2-27c36004a493"
      },
      "execution_count": null,
      "outputs": [
        {
          "output_type": "stream",
          "name": "stdout",
          "text": [
            "accuracy: 0.9894736842105263\n",
            "precision: 1.0\n",
            "recall: 0.9726027397260274\n",
            "f score: 0.9861111111111112\n"
          ]
        }
      ],
      "id": "c0DiJzddr4pR"
    },
    {
      "cell_type": "markdown",
      "source": [
        "0.6"
      ],
      "metadata": {
        "id": "WiNjjDL7DPdM"
      },
      "id": "WiNjjDL7DPdM"
    },
    {
      "cell_type": "code",
      "source": [
        "y_predicted = predict(X_test,theta[0],0.6) #we put inside it the respective threshold needed\n",
        "print(\"accuracy:\" , accuracy(y_test , y_predicted))\n",
        "print(\"precision:\",precision(y_test , y_predicted))\n",
        "print(\"recall:\",recall(y_test , y_predicted))\n",
        "print(\"f score:\",f_score(y_test , y_predicted))"
      ],
      "metadata": {
        "colab": {
          "base_uri": "https://localhost:8080/"
        },
        "id": "qv9ZVx6FDA6O",
        "outputId": "e4efe419-8292-4471-f798-5bf3e06ac9c3"
      },
      "id": "qv9ZVx6FDA6O",
      "execution_count": null,
      "outputs": [
        {
          "output_type": "stream",
          "name": "stdout",
          "text": [
            "accuracy: 0.968421052631579\n",
            "precision: 1.0\n",
            "recall: 0.9178082191780822\n",
            "f score: 0.9571428571428571\n"
          ]
        }
      ]
    },
    {
      "cell_type": "markdown",
      "source": [
        "0.7"
      ],
      "metadata": {
        "id": "mv1lW36pDQnu"
      },
      "id": "mv1lW36pDQnu"
    },
    {
      "cell_type": "code",
      "source": [
        "y_predicted = predict(X_test,theta[0],0.7) #we put inside it the respective threshold needed\n",
        "print(\"accuracy:\" , accuracy(y_test , y_predicted))\n",
        "print(\"precision:\",precision(y_test , y_predicted))\n",
        "print(\"recall:\",recall(y_test , y_predicted))\n",
        "print(\"f score:\",f_score(y_test , y_predicted))"
      ],
      "metadata": {
        "colab": {
          "base_uri": "https://localhost:8080/"
        },
        "id": "vvxOc1PcDCHi",
        "outputId": "cffbc18c-c7c6-4c39-9a35-7bc2c942f06b"
      },
      "id": "vvxOc1PcDCHi",
      "execution_count": null,
      "outputs": [
        {
          "output_type": "stream",
          "name": "stdout",
          "text": [
            "accuracy: 0.9473684210526315\n",
            "precision: 1.0\n",
            "recall: 0.863013698630137\n",
            "f score: 0.9264705882352942\n"
          ]
        }
      ]
    },
    {
      "cell_type": "code",
      "source": [
        "theta = batch_gradient_descent(X_train,y_train,theta1,0.01,1000)"
      ],
      "metadata": {
        "id": "1nZdzy7Wr4pS",
        "colab": {
          "base_uri": "https://localhost:8080/",
          "height": 281
        },
        "outputId": "dfff8738-ccdc-4bca-cade-e17b7b4a4858"
      },
      "execution_count": null,
      "outputs": [
        {
          "output_type": "display_data",
          "data": {
            "text/plain": [
              "<Figure size 432x288 with 1 Axes>"
            ],
            "image/png": "[encoded data removed]"
          },
          "metadata": {
            "needs_background": "light"
          }
        }
      ],
      "id": "1nZdzy7Wr4pS"
    },
    {
      "cell_type": "code",
      "source": [
        "theta = batch_gradient_descent(X_train,y_train,theta1,0.001,1000)"
      ],
      "metadata": {
        "id": "BZRMLTcyr4pT",
        "colab": {
          "base_uri": "https://localhost:8080/",
          "height": 281
        },
        "outputId": "50e50299-b7ac-488e-cfe4-778e1c9753ff"
      },
      "execution_count": null,
      "outputs": [
        {
          "output_type": "display_data",
          "data": {
            "text/plain": [
              "<Figure size 432x288 with 1 Axes>"
            ],
            "image/png": "[encoded data removed]"
          },
          "metadata": {
            "needs_background": "light"
          }
        }
      ],
      "id": "BZRMLTcyr4pT"
    },
    {
      "cell_type": "code",
      "source": [
        "theta = batch_gradient_descent(X_train,y_train,theta1,0.0001,1000)"
      ],
      "metadata": {
        "colab": {
          "base_uri": "https://localhost:8080/",
          "height": 281
        },
        "id": "4YhIWiFwDZT1",
        "outputId": "e74125e5-1ace-450e-e9b3-5913833d3a4e"
      },
      "id": "4YhIWiFwDZT1",
      "execution_count": null,
      "outputs": [
        {
          "output_type": "display_data",
          "data": {
            "text/plain": [
              "<Figure size 432x288 with 1 Axes>"
            ],
            "image/png": "[encoded data removed]"
          },
          "metadata": {
            "needs_background": "light"
          }
        }
      ]
    },
    {
      "cell_type": "markdown",
      "source": [
        "**If you have low learning rate means your cost function will decrease slowly but in case of large learning rate cost function will decrease very fast.**"
      ],
      "metadata": {
        "id": "3YTfZqFMr4pT"
      },
      "id": "3YTfZqFMr4pT"
    },
    {
      "cell_type": "markdown",
      "source": [
        "## **Applying Feature Engineering 2 to normalise the dataset**"
      ],
      "metadata": {
        "id": "JV2EYh7VqG_c"
      },
      "id": "JV2EYh7VqG_c"
    },
    {
      "cell_type": "code",
      "source": [
        "df_norm = df\n",
        "#here I created a dummy dataframe and normalized it as mentioned in task 2\n",
        "for col in df_norm:\n",
        "    if col not in ['id','diagnosis']:\n",
        "        df_norm[col] = (df_norm[col] - df_norm[col].mean()) / df_norm[col].std()"
      ],
      "metadata": {
        "id": "kEKBixTxsg8h"
      },
      "id": "kEKBixTxsg8h",
      "execution_count": null,
      "outputs": []
    },
    {
      "cell_type": "code",
      "source": [
        "# Creating train and test splits\n",
        "X = df_norm.iloc[:, 2:].values\n",
        "y = np.where(df_norm.iloc[:, 1].values == 'M', 1, 0)\n",
        "\n",
        "#concatenate a columns of ones (to accomodate the bias)\n",
        "ones=np.ones((X.shape[0],1))\n",
        "X=np.concatenate((ones,X),axis=1) \n",
        "\n",
        "  #gaussian weight initialisations can be tried:\n",
        "  #theta=np.random.randn(X.shape[1],1)\n",
        "  #1. initialise weights to zeroes\n",
        "theta1=np.zeros((X.shape[1],1))\n",
        "  #split the data into training and testing data, change the test split here\n",
        "np.random.seed(1)\n",
        "indices = np.arange(len(X))\n",
        "np.random.shuffle(indices)\n",
        "  # split the indices into training and testing sets as ***mentioned by Bhanu Sir***\n",
        "n_train = int(len(X) * 2/3)\n",
        "train_indices, test_indices = indices[:n_train], indices[n_train:]\n",
        "\n",
        "  # create the training and testing feature and target arrays\n",
        "X_train, y_train = X[train_indices], y[train_indices]\n",
        "X_test, y_test = X[test_indices], y[test_indices]"
      ],
      "metadata": {
        "id": "XQwFuxhFs5xD"
      },
      "execution_count": null,
      "outputs": [],
      "id": "XQwFuxhFs5xD"
    },
    {
      "cell_type": "markdown",
      "source": [
        "## **Batch Gradient Descent**"
      ],
      "metadata": {
        "id": "U6VFDzXgs-3_"
      },
      "id": "U6VFDzXgs-3_"
    },
    {
      "cell_type": "code",
      "source": [
        "theta = batch_gradient_descent(X_train,y_train,theta1,0.01,1000)\n",
        "y_predicted = predict(X_test,theta[0]) #we put inside it the respective threshold needed\n",
        "print(\"accuracy:\" , accuracy(y_test , y_predicted))\n",
        "print(\"precision:\",precision(y_test , y_predicted))\n",
        "print(\"recall:\",recall(y_test , y_predicted))\n",
        "print(\"f score:\",f_score(y_test , y_predicted))\n"
      ],
      "metadata": {
        "id": "z5wTrLzBs-4A",
        "colab": {
          "base_uri": "https://localhost:8080/",
          "height": 350
        },
        "outputId": "02d2ae7d-7518-49bc-8356-b97058d3208f"
      },
      "execution_count": null,
      "outputs": [
        {
          "output_type": "stream",
          "name": "stdout",
          "text": [
            "accuracy: 0.9842105263157894\n",
            "precision: 1.0\n",
            "recall: 0.958904109589041\n",
            "f score: 0.9790209790209791\n"
          ]
        },
        {
          "output_type": "display_data",
          "data": {
            "text/plain": [
              "<Figure size 432x288 with 1 Axes>"
            ],
            "image/png": "[encoded data removed]"
          },
          "metadata": {
            "needs_background": "light"
          }
        }
      ],
      "id": "z5wTrLzBs-4A"
    },
    {
      "cell_type": "markdown",
      "source": [
        "0.3"
      ],
      "metadata": {
        "id": "eqg90i_PE1CW"
      },
      "id": "eqg90i_PE1CW"
    },
    {
      "cell_type": "code",
      "source": [
        "y_predicted = predict(X_test,theta[0],0.3) #we put inside it the respective threshold needed\n",
        "print(\"accuracy:\" , accuracy(y_test , y_predicted))\n",
        "print(\"precision:\",precision(y_test , y_predicted))\n",
        "print(\"recall:\",recall(y_test , y_predicted))\n",
        "print(\"f score:\",f_score(y_test , y_predicted))"
      ],
      "metadata": {
        "id": "utScvKiMs-4B",
        "colab": {
          "base_uri": "https://localhost:8080/"
        },
        "outputId": "1af72fae-4376-4cbe-f4b4-3d97be85a5d4"
      },
      "execution_count": null,
      "outputs": [
        {
          "output_type": "stream",
          "name": "stdout",
          "text": [
            "accuracy: 0.9736842105263158\n",
            "precision: 0.9594594594594594\n",
            "recall: 0.9726027397260274\n",
            "f score: 0.9659863945578231\n"
          ]
        }
      ],
      "id": "utScvKiMs-4B"
    },
    {
      "cell_type": "markdown",
      "source": [
        "0.4"
      ],
      "metadata": {
        "id": "DJmDQWRCE2E5"
      },
      "id": "DJmDQWRCE2E5"
    },
    {
      "cell_type": "code",
      "source": [
        "y_predicted = predict(X_test,theta[0],0.4) #we put inside it the respective threshold needed\n",
        "print(\"accuracy:\" , accuracy(y_test , y_predicted))\n",
        "print(\"precision:\",precision(y_test , y_predicted))\n",
        "print(\"recall:\",recall(y_test , y_predicted))\n",
        "print(\"f score:\",f_score(y_test , y_predicted))"
      ],
      "metadata": {
        "colab": {
          "base_uri": "https://localhost:8080/"
        },
        "id": "BQk8XYfZERcI",
        "outputId": "61793da8-48e9-4223-eae2-13bb708f54f3"
      },
      "id": "BQk8XYfZERcI",
      "execution_count": null,
      "outputs": [
        {
          "output_type": "stream",
          "name": "stdout",
          "text": [
            "accuracy: 0.9894736842105263\n",
            "precision: 1.0\n",
            "recall: 0.9726027397260274\n",
            "f score: 0.9861111111111112\n"
          ]
        }
      ]
    },
    {
      "cell_type": "markdown",
      "source": [
        "0.6"
      ],
      "metadata": {
        "id": "JZsFZrGNE3VP"
      },
      "id": "JZsFZrGNE3VP"
    },
    {
      "cell_type": "code",
      "source": [
        "y_predicted = predict(X_test,theta[0],0.6) #we put inside it the respective threshold needed\n",
        "print(\"accuracy:\" , accuracy(y_test , y_predicted))\n",
        "print(\"precision:\",precision(y_test , y_predicted))\n",
        "print(\"recall:\",recall(y_test , y_predicted))\n",
        "print(\"f score:\",f_score(y_test , y_predicted))"
      ],
      "metadata": {
        "colab": {
          "base_uri": "https://localhost:8080/"
        },
        "id": "ySRHN8kTESU7",
        "outputId": "a5078f31-29be-40ad-9836-a91f11fa240c"
      },
      "id": "ySRHN8kTESU7",
      "execution_count": null,
      "outputs": [
        {
          "output_type": "stream",
          "name": "stdout",
          "text": [
            "accuracy: 0.968421052631579\n",
            "precision: 1.0\n",
            "recall: 0.9178082191780822\n",
            "f score: 0.9571428571428571\n"
          ]
        }
      ]
    },
    {
      "cell_type": "markdown",
      "source": [
        "0.7"
      ],
      "metadata": {
        "id": "KEh5WRQrE4hi"
      },
      "id": "KEh5WRQrE4hi"
    },
    {
      "cell_type": "code",
      "source": [
        "y_predicted = predict(X_test,theta[0],0.7) #we put inside it the respective threshold needed\n",
        "print(\"accuracy:\" , accuracy(y_test , y_predicted))\n",
        "print(\"precision:\",precision(y_test , y_predicted))\n",
        "print(\"recall:\",recall(y_test , y_predicted))\n",
        "print(\"f score:\",f_score(y_test , y_predicted))"
      ],
      "metadata": {
        "colab": {
          "base_uri": "https://localhost:8080/"
        },
        "id": "o-jYyDxEJOaE",
        "outputId": "b64042ed-5dbc-4148-c7f0-934c80f167ab"
      },
      "id": "o-jYyDxEJOaE",
      "execution_count": null,
      "outputs": [
        {
          "output_type": "stream",
          "name": "stdout",
          "text": [
            "accuracy: 0.9473684210526315\n",
            "precision: 1.0\n",
            "recall: 0.863013698630137\n",
            "f score: 0.9264705882352942\n"
          ]
        }
      ]
    },
    {
      "cell_type": "code",
      "source": [
        "theta = batch_gradient_descent(X_train,y_train,theta1,0.01,1000)"
      ],
      "metadata": {
        "id": "qsorDXmes-4B",
        "colab": {
          "base_uri": "https://localhost:8080/",
          "height": 281
        },
        "outputId": "4d6ce094-b140-458b-840c-e89b892a90cc"
      },
      "execution_count": null,
      "outputs": [
        {
          "output_type": "display_data",
          "data": {
            "text/plain": [
              "<Figure size 432x288 with 1 Axes>"
            ],
            "image/png": "[encoded data removed]"
          },
          "metadata": {
            "needs_background": "light"
          }
        }
      ],
      "id": "qsorDXmes-4B"
    },
    {
      "cell_type": "code",
      "source": [
        "theta = batch_gradient_descent(X_train,y_train,theta1,0.001,1000)"
      ],
      "metadata": {
        "id": "3yry_OXns-4B",
        "colab": {
          "base_uri": "https://localhost:8080/",
          "height": 281
        },
        "outputId": "e1df4625-7f2e-4dab-9da2-8b1f5113f427"
      },
      "execution_count": null,
      "outputs": [
        {
          "output_type": "display_data",
          "data": {
            "text/plain": [
              "<Figure size 432x288 with 1 Axes>"
            ],
            "image/png": "[encoded data removed]"
          },
          "metadata": {
            "needs_background": "light"
          }
        }
      ],
      "id": "3yry_OXns-4B"
    },
    {
      "cell_type": "code",
      "source": [
        "theta = batch_gradient_descent(X_train,y_train,theta1,0.001,1000)"
      ],
      "metadata": {
        "id": "aNb8n-ACs-4B",
        "colab": {
          "base_uri": "https://localhost:8080/",
          "height": 281
        },
        "outputId": "e0d69c20-f833-4abc-ac61-570ffce0eb18"
      },
      "execution_count": null,
      "outputs": [
        {
          "output_type": "display_data",
          "data": {
            "text/plain": [
              "<Figure size 432x288 with 1 Axes>"
            ],
            "image/png": "[encoded data removed]"
          },
          "metadata": {
            "needs_background": "light"
          }
        }
      ],
      "id": "aNb8n-ACs-4B"
    },
    {
      "cell_type": "markdown",
      "source": [
        "**If you have low learning rate means your cost function will decrease slowly but in case of large learning rate cost function will decrease very fast.**"
      ],
      "metadata": {
        "id": "gr7KU-1ys-4B"
      },
      "id": "gr7KU-1ys-4B"
    }
  ],
  "metadata": {
    "kernelspec": {
      "display_name": "Python 3 (ipykernel)",
      "language": "python",
      "name": "python3"
    },
    "language_info": {
      "codemirror_mode": {
        "name": "ipython",
        "version": 3
      },
      "file_extension": ".py",
      "mimetype": "text/x-python",
      "name": "python",
      "nbconvert_exporter": "python",
      "pygments_lexer": "ipython3",
      "version": "3.10.5"
    },
    "colab": {
      "provenance": [],
      "collapsed_sections": [
        "0nrxz7jCO-sT"
      ],
      "toc_visible": true
    }
  },
  "nbformat": 4,
  "nbformat_minor": 5
}